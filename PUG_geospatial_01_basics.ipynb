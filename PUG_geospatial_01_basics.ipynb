{
  "cells": [
    {
      "cell_type": "markdown",
      "metadata": {
        "id": "VScvie1V7tYi"
      },
      "source": [
        "# Why Use Python for GIS?\n",
        "##### *this tutorial was created by Hilario Lumbreras with assistance of Chat GPT*\n",
        "*Notebook 1 of 5*\n",
        "\n",
        "Python has become an essential language in the field of Geographic Information Systems (GIS). Its simplicity, readability, and extensive library ecosystem make it a preferred choice for geospatial professionals and researchers. Here's why:\n",
        "\n",
        "## 1. Rich Library Ecosystem\n",
        "Python boasts a plethora of libraries tailored for GIS tasks. Libraries like Geopandas, Shapely, Pyproj, Fiona, and Rasterio cater to different facets of geospatial processing.\n",
        "\n",
        "## 2. Versatility\n",
        "Python can be used for a wide range of tasks – from basic data processing and visualization to complex spatial analyses, web mapping applications, and even machine learning on geospatial data.\n",
        "\n",
        "## 3. Integration with GIS Platforms\n",
        "Python scripts can be easily integrated into popular GIS platforms like QGIS, ArcGIS, and GRASS GIS. This makes it possible to automate tasks and workflows, enhancing productivity.\n",
        "\n",
        "## 4. Community Support\n",
        "With an ever-growing community of GIS professionals and developers, there is a vast amount of tutorials, forums, and online resources available to troubleshoot issues and learn new techniques.\n",
        "\n",
        "## 5. Platform Independence\n",
        "Python is cross-platform, which means scripts written on one operating system (e.g., Windows) can typically run on another (e.g., Linux or macOS) without modification.\n",
        "\n",
        "## 6. Open-Source Advantage\n",
        "Many of Python's geospatial libraries are open source. This means users benefit from community-driven improvements, no licensing fees, and the freedom to customize the tools according to their needs.\n",
        "\n",
        "## So what?\n",
        "Incorporating Python into GIS tasks provides flexibility, efficiency, and a modern approach to data analysis and spatial problem-solving. Whether you're a GIS professional seeking to automate repetitive tasks, a researcher conducting spatial analysis, or a developer building a geospatial application, Python offers the tools and libraries to meet diverse geospatial needs.\n"
      ]
    },
    {
      "cell_type": "markdown",
      "metadata": {
        "application/vnd.databricks.v1+cell": {
          "cellMetadata": {},
          "inputWidgets": {},
          "nuid": "a5dbd98c-8c44-40da-9a2d-a349ba8aa753",
          "showTitle": false,
          "title": ""
        },
        "id": "Nvev_uXh7tYm"
      },
      "source": [
        "\n",
        "### What is Geopandas and why start here?\n",
        "\n",
        "Geopandas is an open-source Python library that simplifies working with geospatial data in Python. It extends the datatypes used by pandas (a popular data analysis library in Python) to allow for the storage and manipulation of spatial data.\n",
        "\n",
        "### Citing and More info\n",
        "We're using code and data from this course, look through it and try it out :) https://darribas.org/gds_course/content/home.html\n",
        "\n",
        "### Key Features:\n",
        "1. **DataFrame Structure:** Geopandas operates with a data structure called a GeoDataFrame, which is similar to a pandas DataFrame but has a special column for geometry (points, lines, polygons).\n",
        "2. **Integrated with Other Libraries**: Works well with other Python libraries like shapely (for geometry operations), fiona (for file I/O), and matplotlib (for plotting).\n",
        "3. **Data I/O:** Geopandas can read and write from/to a variety of spatial data formats including shapefiles, GeoJSON, and others.\n",
        "4. **Spatial Operations:** Supports many spatial operations such as spatial joins, intersects, and buffering.\n"
      ]
    },
    {
      "cell_type": "markdown",
      "metadata": {
        "id": "u82FeKne7tYn"
      },
      "source": [
        "\n",
        "### Libraries Synopsis:\n",
        "\n",
        "1. **geopandas**:\n",
        "   - **What**: An open-source Python library that makes working with geospatial data in Python easier. It extends the capabilities of pandas to allow spatial operations on geometric types.\n",
        "   - **Uses**: Manipulating and analyzing geometric data, spatial operations, and easily plotting maps.\n",
        "\n",
        "2. **fiona**:\n",
        "   - **What**: Fiona is all about reading and writing vector data (like shapefiles or GeoJSON).\n",
        "   - **Uses**: Reading from and writing to different vector file formats in a pythonic way, works seamlessly with geopandas for data input/output.\n",
        "\n",
        "3. **pyproj**:\n",
        "   - **What**: A Python interface to the PROJ library, which handles cartographic projections and coordinate transformations.\n",
        "   - **Uses**: Transforming coordinate points, lines, and polygons from one coordinate system to another. Often used alongside geopandas to reproject spatial data.\n",
        "\n",
        "4. **pandas**:\n",
        "   - **What**: Offers flexible and powerful data structures for data manipulation and analysis in Python.\n",
        "   - **Uses**: Data cleaning, transformation, aggregation, and visualization. Essential for handling tabular data with mixed data types.\n",
        "\n",
        "5. **pyarrow**:\n",
        "   - **What**: A cross-language development platform for in-memory data that specifies a standardized language-independent columnar memory format for flat and hierarchical data.\n",
        "   - **Uses**: Optimized for analytics, it enables efficient reading and writing of large datasets, interoperability between different big data solutions, and acts as a bridge between the pandas DataFrame in Python and big data platforms.\n",
        "```\n"
      ]
    },
    {
      "cell_type": "markdown",
      "metadata": {
        "id": "xvGSB7IG7tYo"
      },
      "source": [
        "There are many great tutorials out there.These inspired many of teh exampels in this notebook and I took a few of my faovirtes from here too. Here are some of my personal favorites:\n",
        "\n",
        "- [Geospatial Python Course from the University of Liverpool](https://darribas.org/gds_course/content/bC/lab_C.html)\n",
        "- [Geographic Data Science- An Open Source Geospatial Data Science Python Book](https://geographicdata.science/book/intro.html#geographic-data-science-with-python)\n",
        "- [GeoPandas Introduction](https://geopandas.org/en/stable/getting_started/introduction.html)\n",
        "- [DataCamp GeoPandas Tutorial](https://www.datacamp.com/tutorial/geopandas-tutorial-geospatial-analysis)"
      ]
    },
    {
      "cell_type": "code",
      "execution_count": 1,
      "metadata": {
        "gather": {
          "logged": 1698761747042
        },
        "id": "fK0q3i9U7tYo",
        "outputId": "c9c34878-83b5-4644-cd73-1b7bb6477633",
        "colab": {
          "base_uri": "https://localhost:8080/"
        }
      },
      "outputs": [
        {
          "output_type": "stream",
          "name": "stdout",
          "text": [
            "Requirement already satisfied: geopandas in /usr/local/lib/python3.10/dist-packages (0.13.2)\n",
            "Requirement already satisfied: fiona in /usr/local/lib/python3.10/dist-packages (1.9.5)\n",
            "Requirement already satisfied: pyproj in /usr/local/lib/python3.10/dist-packages (3.6.1)\n",
            "Requirement already satisfied: pandas in /usr/local/lib/python3.10/dist-packages (1.5.3)\n",
            "Requirement already satisfied: pyarrow in /usr/local/lib/python3.10/dist-packages (14.0.2)\n",
            "Requirement already satisfied: packaging in /usr/local/lib/python3.10/dist-packages (from geopandas) (23.2)\n",
            "Requirement already satisfied: shapely>=1.7.1 in /usr/local/lib/python3.10/dist-packages (from geopandas) (2.0.3)\n",
            "Requirement already satisfied: attrs>=19.2.0 in /usr/local/lib/python3.10/dist-packages (from fiona) (23.2.0)\n",
            "Requirement already satisfied: certifi in /usr/local/lib/python3.10/dist-packages (from fiona) (2024.2.2)\n",
            "Requirement already satisfied: click~=8.0 in /usr/local/lib/python3.10/dist-packages (from fiona) (8.1.7)\n",
            "Requirement already satisfied: click-plugins>=1.0 in /usr/local/lib/python3.10/dist-packages (from fiona) (1.1.1)\n",
            "Requirement already satisfied: cligj>=0.5 in /usr/local/lib/python3.10/dist-packages (from fiona) (0.7.2)\n",
            "Requirement already satisfied: six in /usr/local/lib/python3.10/dist-packages (from fiona) (1.16.0)\n",
            "Requirement already satisfied: setuptools in /usr/local/lib/python3.10/dist-packages (from fiona) (67.7.2)\n",
            "Requirement already satisfied: python-dateutil>=2.8.1 in /usr/local/lib/python3.10/dist-packages (from pandas) (2.8.2)\n",
            "Requirement already satisfied: pytz>=2020.1 in /usr/local/lib/python3.10/dist-packages (from pandas) (2023.4)\n",
            "Requirement already satisfied: numpy>=1.21.0 in /usr/local/lib/python3.10/dist-packages (from pandas) (1.25.2)\n"
          ]
        }
      ],
      "source": [
        "# Install GeoPandas and its dependencies\n",
        "!pip install geopandas fiona pyproj pandas pyarrow"
      ]
    },
    {
      "cell_type": "markdown",
      "metadata": {
        "application/vnd.databricks.v1+cell": {
          "cellMetadata": {},
          "inputWidgets": {},
          "nuid": "832581fc-2fe8-4300-aba1-bfef89ef2bdb",
          "showTitle": false,
          "title": ""
        },
        "id": "jHS0WhYg7tYq"
      },
      "source": [
        "## A quick example to put it into action:\n",
        "You have data on oil wells in a particular region and a separate dataset on protected natural reserves. You want to know which oil wells are within these protected areas to ensure regulatory compliance.\n",
        "\n",
        "## Data:\n",
        "\n",
        "- wells.csv: Contains coordinates and other data of oil wells.\n",
        "- reserves.geojson: Contains the boundary polygons of protected natural reserves.\n",
        "- Objective: Identify oil wells located within the protected areas."
      ]
    },
    {
      "cell_type": "markdown",
      "metadata": {
        "application/vnd.databricks.v1+cell": {
          "cellMetadata": {
            "byteLimit": 2048000,
            "rowLimit": 10000
          },
          "inputWidgets": {},
          "nuid": "7c17b0b0-73c3-4a53-9cf6-57c460fbe195",
          "showTitle": false,
          "title": ""
        },
        "id": "Do3Nmmqd7tYq"
      },
      "source": [
        "### wells.csv\n",
        "\n",
        "Imagine that each oil well has:\n",
        "\n",
        "- A unique identifier.\n",
        "- Latitude and longitude coordinates.\n",
        "- The date it started operation.\n",
        "- The current production rate in barrels per day (bpd)."
      ]
    },
    {
      "cell_type": "code",
      "execution_count": 2,
      "metadata": {
        "application/vnd.databricks.v1+cell": {
          "cellMetadata": {
            "byteLimit": 2048000,
            "rowLimit": 10000
          },
          "inputWidgets": {},
          "nuid": "f3bddf6f-7c9e-4748-9f28-095e265a76a7",
          "showTitle": false,
          "title": ""
        },
        "gather": {
          "logged": 1698761758738
        },
        "id": "QrzmuX1R7tYr",
        "outputId": "d43a5a32-e360-4793-bfef-eca9d29e01b8",
        "colab": {
          "base_uri": "https://localhost:8080/"
        }
      },
      "outputs": [
        {
          "output_type": "stream",
          "name": "stdout",
          "text": [
            "   well_id  latitude  longitude  start_date  production_bpd  \\\n",
            "0      101   40.7128    -74.006  2021-01-15            1000   \n",
            "1      102   40.7138    -74.007  2020-03-10            1200   \n",
            "2      103   40.7148    -74.008  2019-08-24             950   \n",
            "3      104   40.7158    -74.009  2018-11-05            1100   \n",
            "4      105   40.7168    -74.010  2017-04-12            1050   \n",
            "\n",
            "                     geometry  \n",
            "0  POINT (-74.00600 40.71280)  \n",
            "1  POINT (-74.00700 40.71380)  \n",
            "2  POINT (-74.00800 40.71480)  \n",
            "3  POINT (-74.00900 40.71580)  \n",
            "4  POINT (-74.01000 40.71680)  \n"
          ]
        }
      ],
      "source": [
        "import pandas as pd\n",
        "import geopandas as gpd\n",
        "from shapely.geometry import Point\n",
        "\n",
        "# Sample data\n",
        "data = {\n",
        "    'well_id': [101, 102, 103, 104, 105],\n",
        "    'latitude': [40.7128, 40.7138, 40.7148, 40.7158, 40.7168],\n",
        "    'longitude': [-74.0060, -74.0070, -74.0080, -74.0090, -74.0100],\n",
        "    'start_date': ['2021-01-15', '2020-03-10', '2019-08-24', '2018-11-05', '2017-04-12'],\n",
        "    'production_bpd': [1000, 1200, 950, 1100, 1050]\n",
        "}\n",
        "\n",
        "# Create a DataFrame\n",
        "df_wells = pd.DataFrame(data)\n",
        "\n",
        "# Create a GeoDataFrame by adding a geometry column with Point objects\n",
        "gdf_wells = gpd.GeoDataFrame(\n",
        "    df_wells,\n",
        "    geometry=[Point(lon, lat) for lon, lat in zip(df_wells['longitude'], df_wells['latitude'])],\n",
        "    crs=\"EPSG:4326\"  # Set the coordinate reference system (CRS)\n",
        ")\n",
        "\n",
        "# Display the GeoDataFrame\n",
        "print(gdf_wells)\n"
      ]
    },
    {
      "cell_type": "markdown",
      "metadata": {
        "application/vnd.databricks.v1+cell": {
          "cellMetadata": {
            "byteLimit": 2048000,
            "rowLimit": 10000
          },
          "inputWidgets": {},
          "nuid": "4590c759-da93-4fe1-8bd1-057939d662ef",
          "showTitle": false,
          "title": ""
        },
        "id": "Y2p389u-7tYr"
      },
      "source": [
        "### reserves.geojson\n",
        "A .geojson file can represent various geospatial data types, including Points, LineStrings, and Polygons. For this mock-up, we'll consider Polygons.\n",
        "\n",
        "This mock-up reserves.geojson describes two protected reserves: Greenland Reserve and Bluewater Reserve. Each reserve is represented as a polygon, defined by a list of coordinates forming its boundary.\n",
        "\n",
        "The properties section can contain additional data about each reserve. In this mock-up, it has the reserve name and the year it was established.\n",
        "\n",
        "In practice, these polygons would likely have more coordinates to define more complex shapes accurately. This is a very simplified version for the sake of demonstration.\n",
        "\n",
        "Here's what the reserves.geojson might look like in a structured form:"
      ]
    },
    {
      "cell_type": "code",
      "execution_count": 3,
      "metadata": {
        "application/vnd.databricks.v1+cell": {
          "cellMetadata": {
            "byteLimit": 2048000,
            "rowLimit": 10000
          },
          "inputWidgets": {},
          "nuid": "ac700bbb-2b18-4ea7-ae30-2f2454239577",
          "showTitle": false,
          "title": ""
        },
        "gather": {
          "logged": 1698761761512
        },
        "id": "RniNOCZa7tYs",
        "outputId": "0460e767-4963-47ac-ba37-c3fdbe45227e",
        "colab": {
          "base_uri": "https://localhost:8080/"
        }
      },
      "outputs": [
        {
          "output_type": "stream",
          "name": "stdout",
          "text": [
            "  reserve_id    reserve_name  \\\n",
            "0         R1     Green Haven   \n",
            "1         R2  Blue Sanctuary   \n",
            "\n",
            "                                            geometry  \n",
            "0  POLYGON ((-74.00750 40.71350, -74.00750 40.714...  \n",
            "1  POLYGON ((-74.00950 40.71550, -74.00950 40.716...  \n"
          ]
        }
      ],
      "source": [
        "import io\n",
        "import geopandas as gpd\n",
        "\n",
        "# Sample geojson data for reserves\n",
        "geojson_data = \"\"\"\n",
        "{\n",
        "  \"type\": \"FeatureCollection\",\n",
        "  \"features\": [\n",
        "    {\n",
        "      \"type\": \"Feature\",\n",
        "      \"properties\": {\n",
        "        \"reserve_id\": \"R1\",\n",
        "        \"reserve_name\": \"Green Haven\"\n",
        "      },\n",
        "      \"geometry\": {\n",
        "        \"type\": \"Polygon\",\n",
        "        \"coordinates\": [\n",
        "          [\n",
        "            [-74.0075, 40.7135],\n",
        "            [-74.0075, 40.7145],\n",
        "            [-74.0085, 40.7145],\n",
        "            [-74.0085, 40.7135],\n",
        "            [-74.0075, 40.7135]\n",
        "          ]\n",
        "        ]\n",
        "      }\n",
        "    },\n",
        "    {\n",
        "      \"type\": \"Feature\",\n",
        "      \"properties\": {\n",
        "        \"reserve_id\": \"R2\",\n",
        "        \"reserve_name\": \"Blue Sanctuary\"\n",
        "      },\n",
        "      \"geometry\": {\n",
        "        \"type\": \"Polygon\",\n",
        "        \"coordinates\": [\n",
        "          [\n",
        "            [-74.0095, 40.7155],\n",
        "            [-74.0095, 40.7165],\n",
        "            [-74.0105, 40.7165],\n",
        "            [-74.0105, 40.7155],\n",
        "            [-74.0095, 40.7155]\n",
        "          ]\n",
        "        ]\n",
        "      }\n",
        "    }\n",
        "  ]\n",
        "}\n",
        "\"\"\"\n",
        "\n",
        "# Reading the geojson string into a GeoDataFrame\n",
        "gdf_reserves = gpd.read_file(io.StringIO(geojson_data), driver=\"GeoJSON\")\n",
        "\n",
        "# Display the reserves GeoDataFrame\n",
        "print(gdf_reserves)\n",
        "\n"
      ]
    },
    {
      "cell_type": "code",
      "execution_count": 4,
      "metadata": {
        "gather": {
          "logged": 1698761770389
        },
        "jupyter": {
          "outputs_hidden": false,
          "source_hidden": false
        },
        "nteract": {
          "transient": {
            "deleting": false
          }
        },
        "id": "73jlWtWw7tYs",
        "outputId": "c28be444-a17f-48da-cdb9-11f59b5456e2",
        "colab": {
          "base_uri": "https://localhost:8080/",
          "height": 695
        }
      },
      "outputs": [
        {
          "output_type": "stream",
          "name": "stderr",
          "text": [
            "/usr/local/lib/python3.10/dist-packages/IPython/core/interactiveshell.py:3473: FutureWarning: The `op` parameter is deprecated and will be removed in a future release. Please use the `predicate` parameter instead.\n",
            "  if (await self.run_code(code, result,  async_=asy)):\n"
          ]
        },
        {
          "output_type": "display_data",
          "data": {
            "text/plain": [
              "<Figure size 1000x700 with 1 Axes>"
            ],
            "image/png": "[encoded data removed]"
          },
          "metadata": {}
        }
      ],
      "source": [
        "import matplotlib.pyplot as plt\n",
        "\n",
        "# Spatial join: Find all wells that are within a protected area\n",
        "gdf_within_reserves = gpd.sjoin(gdf_wells, gdf_reserves, op='within', how='inner')\n",
        "\n",
        "# First, we will plot the reserves\n",
        "ax = gdf_reserves.plot(color='lightgreen', edgecolor='black', figsize=(10, 7))\n",
        "\n",
        "# Next, we plot all oil wells using black color\n",
        "gdf_wells.plot(ax=ax, color='black', markersize=50, label='Oil Wells')\n",
        "\n",
        "# Check if any oil wells are within the reserves, if yes then plot them in red\n",
        "if not gdf_within_reserves.empty:\n",
        "    gdf_within_reserves.plot(ax=ax, color='red', markersize=70, label='Wells within Reserves')\n",
        "\n",
        "# Setting the legend and title\n",
        "plt.legend()\n",
        "plt.title('Oil Wells and Protected Reserves')\n",
        "\n",
        "# Display the map\n",
        "plt.show()\n"
      ]
    },
    {
      "cell_type": "markdown",
      "metadata": {
        "nteract": {
          "transient": {
            "deleting": false
          }
        },
        "id": "_XVGlMg07tYs"
      },
      "source": [
        "## A Note on the Coordinate Reference System (CRS)\n",
        "\n",
        "The Coordinate Reference System (CRS) we defined for the oil wells GeoDataFrame (`gdf_wells`) is \"EPSG:4326\". This is a very commonly used CRS known as WGS 84. In this system:\n",
        "\n",
        "- Latitude and longitude are represented in decimal degrees.\n",
        "- The equator is set as the origin for latitude.\n",
        "- The Prime Meridian in Greenwich, England, is set as the origin for longitude.\n",
        "\n",
        "For the reserves GeoDataFrame (`gdf_reserves`), the CRS is inherited from the GeoJSON string. Since we didn't explicitly define it in the GeoJSON, it's assumed to be \"EPSG:4326\" when read into GeoPandas, as that's the default for GeoJSONs.\n",
        "\n"
      ]
    },
    {
      "cell_type": "code",
      "execution_count": 5,
      "metadata": {
        "gather": {
          "logged": 1698761770493
        },
        "jupyter": {
          "outputs_hidden": false,
          "source_hidden": false
        },
        "nteract": {
          "transient": {
            "deleting": false
          }
        },
        "id": "fS0W6--27tYt",
        "outputId": "81f54102-c719-49ae-89e0-76dd6edf2007",
        "colab": {
          "base_uri": "https://localhost:8080/"
        }
      },
      "outputs": [
        {
          "output_type": "stream",
          "name": "stdout",
          "text": [
            "EPSG:4326\n",
            "EPSG:4326\n"
          ]
        }
      ],
      "source": [
        "# Here we can see that they both align\n",
        "print(gdf_wells.crs)\n",
        "print(gdf_reserves.crs)\n"
      ]
    },
    {
      "cell_type": "code",
      "execution_count": 6,
      "metadata": {
        "id": "KpTxx2I47tYt",
        "outputId": "5ea9c669-f824-4ab1-fca7-22022b65fde6",
        "colab": {
          "base_uri": "https://localhost:8080/"
        }
      },
      "outputs": [
        {
          "output_type": "stream",
          "name": "stdout",
          "text": [
            "Point A (WGS84): POINT (-75 40)\n",
            "Point B (UTM Zone 33 North): POINT (-5945835.4273724845 9997964.943020996)\n"
          ]
        }
      ],
      "source": [
        "import geopandas as gpd\n",
        "from shapely.geometry import Point\n",
        "\n",
        "# Create a GeoDataFrame with two points\n",
        "data = {'Name': ['Point A', 'Point B'],\n",
        "        'Latitude': [40.0, 40.0],\n",
        "        'Longitude': [-75.0, -75.0]}\n",
        "gdf = gpd.GeoDataFrame(data, geometry=gpd.points_from_xy(data['Longitude'], data['Latitude']))\n",
        "\n",
        "# Set the initial CRS to WGS84 (latitude-longitude)\n",
        "gdf = gdf.set_crs(epsg=4326)\n",
        "\n",
        "# Reproject to UTM Zone 33 North (EPSG:32633)\n",
        "gdf_utm = gdf.to_crs(epsg=32633)\n",
        "\n",
        "# Print the coordinates of both points\n",
        "print(\"Point A (WGS84):\", gdf.geometry.iloc[0])\n",
        "print(\"Point B (UTM Zone 33 North):\", gdf_utm.geometry.iloc[1])\n",
        "\n"
      ]
    },
    {
      "cell_type": "markdown",
      "metadata": {
        "application/vnd.databricks.v1+cell": {
          "cellMetadata": {},
          "inputWidgets": {},
          "nuid": "45a94c7a-7623-4b7b-80c8-1fa755390a96",
          "showTitle": false,
          "title": ""
        },
        "id": "sOaJomaG7tYt"
      },
      "source": [
        "### Objectives\n",
        "Here are some of the most important concepts associated with GeoPandas:\n",
        "\n",
        "1. **GeoDataFrame & GeoSeries**:\n",
        "\n",
        "   * **GeoSeries**: A pandas Series designed to store geometric objects like points, lines, and polygons from the Shapely library.\n",
        "      - A GeoSeries is essentially a vector where each entry in the vector is a set of shapes corresponding to one observation. Think of it as a single list of geometries.\n",
        "      - Each entry in a GeoSeries is a geometric object, which could be a point, line, polygon, or even a multi-part equivalent (like MultiPolygon).\n",
        "      - It is the basic data structure in geopandas used to hold the geometry information.\n",
        "      -Operations on a GeoSeries are typically geometric in nature, such as calculating areas, lengths, distances, or performing geometric operations like union, intersection, etc.\n",
        "   * **GeoDataFrame**: A fundamental data structure in GeoPandas, it's essentially a pandas DataFrame that has a special column for geometry, making it suitable for storing spatial features.\n",
        "      - A GeoDataFrame is more complex and can be thought of as a table with rows and columns, where one of the columns is a GeoSeries.\n",
        "      - In a GeoDataFrame, there is a special 'geometry' column that holds the geometry of the observations; this is what turns a pandas DataFrame into a GeoDataFrame.\n",
        "      - Besides the geometry column, a GeoDataFrame can contain other columns with additional attributes (numerical, boolean, text, etc.) corresponding to each of the geometries.\n",
        "      - You can perform typical pandas operations on a GeoDataFrame (like group by, join, merge, etc.), but you also have the spatial operations available from the GeoSeries\n",
        "\n",
        "\n",
        "2. **Geometry Types**:\n",
        "   * GeoPandas primarily leverages the Shapely library for geometry. Common geometric objects include:\n",
        "     * Point\n",
        "     * LineString\n",
        "     * Polygon\n",
        "     * MultiPoint, MultiLineString, MultiPolygon: Used for cases where features have multiple parts.\n",
        "\n",
        "3. **Coordinate Reference Systems (CRS)**:\n",
        "   * It's crucial to understand the spatial reference of your data. The CRS provides information on the projection and datum of the geometries.\n",
        "   * GeoPandas allows you to set, verify, and transform between CRSs.\n",
        "\n",
        "4. **Spatial Operations**:\n",
        "   * GeoPandas provides a suite of spatial operations using the underlying capabilities of Shapely:\n",
        "     * buffer(): Creates a buffer around a geometry.\n",
        "     * union, intersection, difference: Typical set-based operations.\n",
        "     * contains, within, intersects: Spatial queries between geometries.\n",
        "\n",
        "5. **Spatial Joins**:\n",
        "   * You can merge data based on spatial relationships, such as points within a polygon or lines intersecting lines.\n",
        "\n",
        "6. **File I/O**:\n",
        "   * GeoPandas supports various geospatial file formats for reading and writing data, including but not limited to Shapefile, GeoJSON, and Geopackage.\n",
        "   * The `read_file` and `to_file` functions facilitate this.\n",
        "\n",
        "7. **Visualization**:\n",
        "   * GeoPandas integrates with Matplotlib for plotting, allowing for quick visualization of the geospatial data contained in a GeoDataFrame or GeoSeries.\n",
        "\n",
        "8. **Attributes & Methods**:\n",
        "   * Like pandas, GeoPandas offers a wide range of attributes (like `area`, `bounds`, `total_bounds`) and methods (like `distance`, `centroid`, `envelope`) that make data exploration and manipulation easier.\n",
        "\n",
        "9. **Integration with Other Libraries**:\n",
        "   * GeoPandas seamlessly integrates with other geospatial libraries like Fiona (for file access), PyProj (for handling projections and coordinate transformations), and Rasterio (for raster data processing).\n"
      ]
    },
    {
      "cell_type": "markdown",
      "metadata": {
        "application/vnd.databricks.v1+cell": {
          "cellMetadata": {},
          "inputWidgets": {},
          "nuid": "52186770-9f56-49b0-8843-7bbcd6cc052d",
          "showTitle": false,
          "title": ""
        },
        "id": "5BZ36ndD7tYt"
      },
      "source": [
        "### 1. GeoDataFrame & GeoSeries:\n",
        "   \n",
        "#### Exercise: Visualizing Cities on a Map\n",
        "\n",
        "**Objective:** Create a GeoDataFrame representing three cities and visualize them on a map.\n",
        "\n",
        "**In this exercise:**\n",
        "\n"
      ]
    },
    {
      "cell_type": "markdown",
      "metadata": {
        "id": "qEJHj0Wd7tYu"
      },
      "source": [
        "### Points\n",
        "- Here we load data points from a public GitHub and inspect the data frame"
      ]
    },
    {
      "cell_type": "code",
      "execution_count": 7,
      "metadata": {
        "gather": {
          "logged": 1698761804033
        },
        "jupyter": {
          "outputs_hidden": false,
          "source_hidden": false
        },
        "nteract": {
          "transient": {
            "deleting": false
          }
        },
        "id": "ZEvUbexo7tYu",
        "outputId": "eeb0c9f6-e7be-4c44-d52a-79f38e1551ee",
        "colab": {
          "base_uri": "https://localhost:8080/"
        }
      },
      "outputs": [
        {
          "output_type": "stream",
          "name": "stderr",
          "text": [
            "WARNING:fiona._env:File /vsicurl/https://ndownloader.figshare.com/files/20232174 has GPKG application_id, but non conformant file extension\n"
          ]
        }
      ],
      "source": [
        "import geopandas\n",
        "\n",
        "# load in our df\n",
        "cities = geopandas.read_file(\"https://ndownloader.figshare.com/files/20232174\")"
      ]
    },
    {
      "cell_type": "code",
      "execution_count": 8,
      "metadata": {
        "gather": {
          "logged": 1698761931119
        },
        "jupyter": {
          "outputs_hidden": false,
          "source_hidden": false
        },
        "nteract": {
          "transient": {
            "deleting": false
          }
        },
        "id": "CwGtzXSG7tYu",
        "outputId": "2b83efec-cf99-45e2-d298-fa448c432237",
        "colab": {
          "base_uri": "https://localhost:8080/",
          "height": 206
        }
      },
      "outputs": [
        {
          "output_type": "execute_result",
          "data": {
            "text/plain": [
              "  city_id  n_buildings                                           geometry\n",
              "0   ci000         2348  POLYGON ((385390.071 4202949.446, 384488.697 4...\n",
              "1   ci001         2741  POLYGON ((214893.033 4579137.558, 215258.185 4...\n",
              "2   ci002         5472  POLYGON ((690674.281 4182188.538, 691047.526 4...\n",
              "3   ci003        14608  POLYGON ((513378.282 4072327.639, 513408.853 4...\n",
              "4   ci004         2324  POLYGON ((206989.081 4129478.031, 207275.702 4..."
            ],
            "text/html": [
              "\n",
              "  <div id=\"df-93318d00-fa24-44da-8381-a6387c037133\" class=\"colab-df-container\">\n",
              "    <div>\n",
              "<style scoped>\n",
              "    .dataframe tbody tr th:only-of-type {\n",
              "        vertical-align: middle;\n",
              "    }\n",
              "\n",
              "    .dataframe tbody tr th {\n",
              "        vertical-align: top;\n",
              "    }\n",
              "\n",
              "    .dataframe thead th {\n",
              "        text-align: right;\n",
              "    }\n",
              "</style>\n",
              "<table border=\"1\" class=\"dataframe\">\n",
              "  <thead>\n",
              "    <tr style=\"text-align: right;\">\n",
              "      <th></th>\n",
              "      <th>city_id</th>\n",
              "      <th>n_buildings</th>\n",
              "      <th>geometry</th>\n",
              "    </tr>\n",
              "  </thead>\n",
              "  <tbody>\n",
              "    <tr>\n",
              "      <th>0</th>\n",
              "      <td>ci000</td>\n",
              "      <td>2348</td>\n",
              "      <td>POLYGON ((385390.071 4202949.446, 384488.697 4...</td>\n",
              "    </tr>\n",
              "    <tr>\n",
              "      <th>1</th>\n",
              "      <td>ci001</td>\n",
              "      <td>2741</td>\n",
              "      <td>POLYGON ((214893.033 4579137.558, 215258.185 4...</td>\n",
              "    </tr>\n",
              "    <tr>\n",
              "      <th>2</th>\n",
              "      <td>ci002</td>\n",
              "      <td>5472</td>\n",
              "      <td>POLYGON ((690674.281 4182188.538, 691047.526 4...</td>\n",
              "    </tr>\n",
              "    <tr>\n",
              "      <th>3</th>\n",
              "      <td>ci003</td>\n",
              "      <td>14608</td>\n",
              "      <td>POLYGON ((513378.282 4072327.639, 513408.853 4...</td>\n",
              "    </tr>\n",
              "    <tr>\n",
              "      <th>4</th>\n",
              "      <td>ci004</td>\n",
              "      <td>2324</td>\n",
              "      <td>POLYGON ((206989.081 4129478.031, 207275.702 4...</td>\n",
              "    </tr>\n",
              "  </tbody>\n",
              "</table>\n",
              "</div>\n",
              "    <div class=\"colab-df-buttons\">\n",
              "\n",
              "  <div class=\"colab-df-container\">\n",
              "    <button class=\"colab-df-convert\" onclick=\"convertToInteractive('df-93318d00-fa24-44da-8381-a6387c037133')\"\n",
              "            title=\"Convert this dataframe to an interactive table.\"\n",
              "            style=\"display:none;\">\n",
              "\n",
              "  <svg xmlns=\"http://www.w3.org/2000/svg\" height=\"24px\" viewBox=\"0 -960 960 960\">\n",
              "    <path d=\"M120-120v-720h720v720H120Zm60-500h600v-160H180v160Zm220 220h160v-160H400v160Zm0 220h160v-160H400v160ZM180-400h160v-160H180v160Zm440 0h160v-160H620v160ZM180-180h160v-160H180v160Zm440 0h160v-160H620v160Z\"/>\n",
              "  </svg>\n",
              "    </button>\n",
              "\n",
              "  <style>\n",
              "    .colab-df-container {\n",
              "      display:flex;\n",
              "      gap: 12px;\n",
              "    }\n",
              "\n",
              "    .colab-df-convert {\n",
              "      background-color: #E8F0FE;\n",
              "      border: none;\n",
              "      border-radius: 50%;\n",
              "      cursor: pointer;\n",
              "      display: none;\n",
              "      fill: #1967D2;\n",
              "      height: 32px;\n",
              "      padding: 0 0 0 0;\n",
              "      width: 32px;\n",
              "    }\n",
              "\n",
              "    .colab-df-convert:hover {\n",
              "      background-color: #E2EBFA;\n",
              "      box-shadow: 0px 1px 2px rgba(60, 64, 67, 0.3), 0px 1px 3px 1px rgba(60, 64, 67, 0.15);\n",
              "      fill: #174EA6;\n",
              "    }\n",
              "\n",
              "    .colab-df-buttons div {\n",
              "      margin-bottom: 4px;\n",
              "    }\n",
              "\n",
              "    [theme=dark] .colab-df-convert {\n",
              "      background-color: #3B4455;\n",
              "      fill: #D2E3FC;\n",
              "    }\n",
              "\n",
              "    [theme=dark] .colab-df-convert:hover {\n",
              "      background-color: #434B5C;\n",
              "      box-shadow: 0px 1px 3px 1px rgba(0, 0, 0, 0.15);\n",
              "      filter: drop-shadow(0px 1px 2px rgba(0, 0, 0, 0.3));\n",
              "      fill: #FFFFFF;\n",
              "    }\n",
              "  </style>\n",
              "\n",
              "    <script>\n",
              "      const buttonEl =\n",
              "        document.querySelector('#df-93318d00-fa24-44da-8381-a6387c037133 button.colab-df-convert');\n",
              "      buttonEl.style.display =\n",
              "        google.colab.kernel.accessAllowed ? 'block' : 'none';\n",
              "\n",
              "      async function convertToInteractive(key) {\n",
              "        const element = document.querySelector('#df-93318d00-fa24-44da-8381-a6387c037133');\n",
              "        const dataTable =\n",
              "          await google.colab.kernel.invokeFunction('convertToInteractive',\n",
              "                                                    [key], {});\n",
              "        if (!dataTable) return;\n",
              "\n",
              "        const docLinkHtml = 'Like what you see? Visit the ' +\n",
              "          '<a target=\"_blank\" href=https://colab.research.google.com/notebooks/data_table.ipynb>data table notebook</a>'\n",
              "          + ' to learn more about interactive tables.';\n",
              "        element.innerHTML = '';\n",
              "        dataTable['output_type'] = 'display_data';\n",
              "        await google.colab.output.renderOutput(dataTable, element);\n",
              "        const docLink = document.createElement('div');\n",
              "        docLink.innerHTML = docLinkHtml;\n",
              "        element.appendChild(docLink);\n",
              "      }\n",
              "    </script>\n",
              "  </div>\n",
              "\n",
              "\n",
              "<div id=\"df-8d846bd6-18b3-4a1a-a59f-27a8c9aed8e6\">\n",
              "  <button class=\"colab-df-quickchart\" onclick=\"quickchart('df-8d846bd6-18b3-4a1a-a59f-27a8c9aed8e6')\"\n",
              "            title=\"Suggest charts\"\n",
              "            style=\"display:none;\">\n",
              "\n",
              "<svg xmlns=\"http://www.w3.org/2000/svg\" height=\"24px\"viewBox=\"0 0 24 24\"\n",
              "     width=\"24px\">\n",
              "    <g>\n",
              "        <path d=\"M19 3H5c-1.1 0-2 .9-2 2v14c0 1.1.9 2 2 2h14c1.1 0 2-.9 2-2V5c0-1.1-.9-2-2-2zM9 17H7v-7h2v7zm4 0h-2V7h2v10zm4 0h-2v-4h2v4z\"/>\n",
              "    </g>\n",
              "</svg>\n",
              "  </button>\n",
              "\n",
              "<style>\n",
              "  .colab-df-quickchart {\n",
              "      --bg-color: #E8F0FE;\n",
              "      --fill-color: #1967D2;\n",
              "      --hover-bg-color: #E2EBFA;\n",
              "      --hover-fill-color: #174EA6;\n",
              "      --disabled-fill-color: #AAA;\n",
              "      --disabled-bg-color: #DDD;\n",
              "  }\n",
              "\n",
              "  [theme=dark] .colab-df-quickchart {\n",
              "      --bg-color: #3B4455;\n",
              "      --fill-color: #D2E3FC;\n",
              "      --hover-bg-color: #434B5C;\n",
              "      --hover-fill-color: #FFFFFF;\n",
              "      --disabled-bg-color: #3B4455;\n",
              "      --disabled-fill-color: #666;\n",
              "  }\n",
              "\n",
              "  .colab-df-quickchart {\n",
              "    background-color: var(--bg-color);\n",
              "    border: none;\n",
              "    border-radius: 50%;\n",
              "    cursor: pointer;\n",
              "    display: none;\n",
              "    fill: var(--fill-color);\n",
              "    height: 32px;\n",
              "    padding: 0;\n",
              "    width: 32px;\n",
              "  }\n",
              "\n",
              "  .colab-df-quickchart:hover {\n",
              "    background-color: var(--hover-bg-color);\n",
              "    box-shadow: 0 1px 2px rgba(60, 64, 67, 0.3), 0 1px 3px 1px rgba(60, 64, 67, 0.15);\n",
              "    fill: var(--button-hover-fill-color);\n",
              "  }\n",
              "\n",
              "  .colab-df-quickchart-complete:disabled,\n",
              "  .colab-df-quickchart-complete:disabled:hover {\n",
              "    background-color: var(--disabled-bg-color);\n",
              "    fill: var(--disabled-fill-color);\n",
              "    box-shadow: none;\n",
              "  }\n",
              "\n",
              "  .colab-df-spinner {\n",
              "    border: 2px solid var(--fill-color);\n",
              "    border-color: transparent;\n",
              "    border-bottom-color: var(--fill-color);\n",
              "    animation:\n",
              "      spin 1s steps(1) infinite;\n",
              "  }\n",
              "\n",
              "  @keyframes spin {\n",
              "    0% {\n",
              "      border-color: transparent;\n",
              "      border-bottom-color: var(--fill-color);\n",
              "      border-left-color: var(--fill-color);\n",
              "    }\n",
              "    20% {\n",
              "      border-color: transparent;\n",
              "      border-left-color: var(--fill-color);\n",
              "      border-top-color: var(--fill-color);\n",
              "    }\n",
              "    30% {\n",
              "      border-color: transparent;\n",
              "      border-left-color: var(--fill-color);\n",
              "      border-top-color: var(--fill-color);\n",
              "      border-right-color: var(--fill-color);\n",
              "    }\n",
              "    40% {\n",
              "      border-color: transparent;\n",
              "      border-right-color: var(--fill-color);\n",
              "      border-top-color: var(--fill-color);\n",
              "    }\n",
              "    60% {\n",
              "      border-color: transparent;\n",
              "      border-right-color: var(--fill-color);\n",
              "    }\n",
              "    80% {\n",
              "      border-color: transparent;\n",
              "      border-right-color: var(--fill-color);\n",
              "      border-bottom-color: var(--fill-color);\n",
              "    }\n",
              "    90% {\n",
              "      border-color: transparent;\n",
              "      border-bottom-color: var(--fill-color);\n",
              "    }\n",
              "  }\n",
              "</style>\n",
              "\n",
              "  <script>\n",
              "    async function quickchart(key) {\n",
              "      const quickchartButtonEl =\n",
              "        document.querySelector('#' + key + ' button');\n",
              "      quickchartButtonEl.disabled = true;  // To prevent multiple clicks.\n",
              "      quickchartButtonEl.classList.add('colab-df-spinner');\n",
              "      try {\n",
              "        const charts = await google.colab.kernel.invokeFunction(\n",
              "            'suggestCharts', [key], {});\n",
              "      } catch (error) {\n",
              "        console.error('Error during call to suggestCharts:', error);\n",
              "      }\n",
              "      quickchartButtonEl.classList.remove('colab-df-spinner');\n",
              "      quickchartButtonEl.classList.add('colab-df-quickchart-complete');\n",
              "    }\n",
              "    (() => {\n",
              "      let quickchartButtonEl =\n",
              "        document.querySelector('#df-8d846bd6-18b3-4a1a-a59f-27a8c9aed8e6 button');\n",
              "      quickchartButtonEl.style.display =\n",
              "        google.colab.kernel.accessAllowed ? 'block' : 'none';\n",
              "    })();\n",
              "  </script>\n",
              "</div>\n",
              "\n",
              "    </div>\n",
              "  </div>\n"
            ],
            "application/vnd.google.colaboratory.intrinsic+json": {
              "type": "dataframe",
              "variable_name": "cities",
              "summary": "{\n  \"name\": \"cities\",\n  \"rows\": 717,\n  \"fields\": [\n    {\n      \"column\": \"city_id\",\n      \"properties\": {\n        \"dtype\": \"string\",\n        \"num_unique_values\": 717,\n        \"samples\": [\n          \"ci131\",\n          \"ci366\",\n          \"ci041\"\n        ],\n        \"semantic_type\": \"\",\n        \"description\": \"\"\n      }\n    },\n    {\n      \"column\": \"n_buildings\",\n      \"properties\": {\n        \"dtype\": \"number\",\n        \"std\": 21107,\n        \"min\": 1305,\n        \"max\": 379617,\n        \"num_unique_values\": 678,\n        \"samples\": [\n          3561,\n          2541,\n          5362\n        ],\n        \"semantic_type\": \"\",\n        \"description\": \"\"\n      }\n    },\n    {\n      \"column\": \"geometry\",\n      \"properties\": {\n        \"dtype\": \"geometry\",\n        \"num_unique_values\": 717,\n        \"samples\": [\n          \"POLYGON ((1121063.7793211532 4442156.699954478, 1121637.0816816036 4441681.940135903, 1122188.1622287198 4441439.8269834835, 1122230.0837092258 4441442.88984872, 1122286.095017206 4441446.624084105, 1122581.3752101446 4441546.582857806, 1123017.555909561 4441727.222848146, 1123544.4822493389 4442664.705655432, 1123549.8433426078 4442695.793941891, 1123653.2442843374 4442778.059768348, 1123720.2170179184 4442824.293873042, 1123797.6242924875 4442740.202505402, 1123784.4546394546 4442701.9430067325, 1124100.1928984001 4441644.535724231, 1124489.9347952723 4441481.1377278175, 1124629.45335133 4441308.065608756, 1124647.032434044 4441284.473130101, 1124616.5179849279 4441042.474082148, 1124589.6241323673 4440934.6946097305, 1125202.8230493974 4440039.611525962, 1125148.550494846 4439204.639448269, 1124960.0279298762 4438608.9817314735, 1124971.3605035383 4438253.067993992, 1125030.8545063362 4438115.480479286, 1125039.0765848202 4437758.752293969, 1125121.726567236 4437448.402310123, 1125025.9215535775 4437324.57604764, 1124856.7016707489 4437270.307334876, 1124601.976306004 4437053.54978757, 1124589.2202799881 4437049.65184375, 1124153.5305429755 4436752.449253996, 1123658.1239384182 4436430.018441972, 1123423.6327385497 4436257.887161749, 1122843.641064485 4436314.566416091, 1122495.230306659 4436157.232132846, 1122235.4467348182 4436018.070122844, 1122154.7309896378 4435977.650974758, 1122048.980058552 4435960.3680927325, 1121851.5398086638 4435945.539546436, 1121565.8318065288 4435865.476453346, 1121388.0345276268 4435871.9694198845, 1120989.7366032412 4436059.824184287, 1120874.674383984 4436065.711696666, 1120843.9371575785 4436099.711802932, 1120609.1408113227 4436541.377634689, 1120397.5255171328 4436693.201433117, 1119957.5419654648 4436717.767824206, 1119818.2251128687 4436744.019295993, 1119628.8054182646 4436853.3215481015, 1119567.3516765852 4437110.122172016, 1119572.1908344487 4437361.401447305, 1119503.0717487584 4437627.761178796, 1119494.7922047253 4437782.716007784, 1119478.8028812136 4438305.777236512, 1118336.280557192 4438448.104571451, 1118325.906987922 4438516.345972251, 1117960.833083989 4439132.855285286, 1117729.7427210896 4439480.605581322, 1117608.0584324033 4439558.790960146, 1117691.902870299 4439699.3425782425, 1117773.3558179792 4440048.14742929, 1117771.864518256 4440066.452368074, 1117810.7707015355 4440178.678567615, 1117830.668111741 4440258.391647503, 1117678.1414751248 4440882.718932386, 1117762.6271175768 4441201.4755032165, 1117888.85435395 4441515.647003662, 1118041.066730401 4442310.691205153, 1118095.6468118036 4442744.944063255, 1118604.3415939717 4443018.6785611, 1118725.5445106584 4443011.373213834, 1119274.500632525 4442870.845136075, 1119766.9810039918 4442910.782757991, 1119970.6404898416 4442814.347835929, 1120957.1530351029 4442719.567490206, 1121063.7793211532 4442156.699954478))\",\n          \"POLYGON ((512071.9658552902 4288076.953172263, 511522.44636096345 4288106.971500907, 511248.6631888438 4288097.709014618, 510829.94330665667 4288126.827348849, 510320.59697729937 4288472.815648537, 510417.45548212144 4288727.638729692, 509789.3467239284 4289111.926590317, 509653.56300453044 4289803.311751861, 509815.69320547243 4289701.050443433, 510428.35272120207 4289955.639387868, 510624.9212269005 4290108.699115981, 511109.80167475 4289930.716267678, 511511.69100000005 4289996.476749999, 512097.9008147032 4289799.448933039, 512579.1807047653 4289632.469323837, 512420.20248402056 4289106.0453733215, 512372.20218411845 4289045.731691909, 512012.22786891635 4288539.277698817, 512120.20644088247 4288106.884740614, 512347.07860587916 4287946.135614678, 512071.9658552902 4288076.953172263))\",\n          \"POLYGON ((-854130.9525186196 3216608.0880906694, -853872.3821957946 3216808.010083641, -853817.5096378487 3216848.520548992, -853529.0795441297 3217095.0720073385, -853462.4758907468 3217088.143648916, -852889.2341375871 3217184.7955212486, -852545.2215033587 3217205.4580284175, -851758.8312870251 3217194.3594469843, -851674.2605778042 3217214.7076171017, -851141.0658557964 3217776.5019048867, -850429.0913804205 3217159.6509232554, -850099.3415226156 3217269.95232156, -849622.9669462466 3217254.060854994, -849076.201753241 3217489.6689631604, -848976.1238227086 3217514.0167470304, -848481.1701441868 3218053.9006542484, -848435.9524532703 3218131.8707823856, -848388.1847897697 3218180.9818757633, -848376.1456397694 3218194.0461595114, -847929.1413189791 3218039.5131852855, -846827.9662749069 3218525.516772111, -846313.6976946442 3218701.2598290257, -845283.8924330246 3218557.7600987223, -845119.3139512175 3218575.191816405, -844968.3523350989 3218434.334251494, -844732.7203801586 3218311.0157173653, -844301.2300335997 3218127.8254449116, -843978.4718921098 3218086.74516972, -843931.6433935413 3218091.21851544, -843587.3102416374 3218243.844452318, -843303.7630841999 3218206.3147903318, -843283.221400053 3218208.3437649985, -843254.3949554528 3218211.8107104865, -843242.9679995249 3218211.474694319, -843174.4329141676 3218125.235573384, -842373.8876576518 3217909.28016756, -842301.1075701519 3217902.9144762377, -841976.9720711932 3217880.103600027, -841971.3084262571 3217880.2841468947, -841961.5229673199 3217879.4343315973, -841908.8578643193 3217874.697306536, -841775.7135274416 3217855.399018774, -841675.549041718 3217831.4979362297, -841359.0983066512 3217747.159970928, -841311.0653378929 3217734.814800684, -841237.2254778687 3217710.9994344832, -840589.4259675604 3217553.6008805484, -840237.6959397136 3217402.941024971, -839573.0670952303 3217372.1836039512, -839068.1615280525 3217658.062752586, -838875.7609027582 3217962.330409552, -838855.3950213 3217976.8087729807, -838798.4059882347 3217918.6670172666, -838691.4517946604 3217830.0180509887, -838437.3480354194 3217634.9559066133, -837695.8939543064 3217739.084741269, -837501.4113043409 3217790.480893312, -837174.6672250157 3218022.810525757, -837121.8369010532 3218074.3885776685, -836933.361846991 3218236.501837844, -836895.8836632284 3218255.0728003904, -836739.1614914789 3218274.8111715997, -836119.0320695263 3218440.503954991, -835943.5760526124 3218569.72422743, -835791.2439486022 3218669.23501985, -835600.4672126669 3218955.213025077, -835589.4937426092 3218989.0491784504, -835577.2414084749 3219006.990808519, -835564.3148116524 3219015.7126300093, -835552.3159219045 3219023.8720529536, -834781.4926977053 3219162.424202326, -834599.8521184997 3219380.9938738155, -834583.8660843555 3219387.8691752795, -834381.0193795132 3219481.5355547518, -834375.4170650452 3219485.1399404868, -834350.6290942922 3219489.0465356936, -834343.3028919464 3219489.435298161, -834320.4865819791 3219490.296776379, -834276.4186962058 3219489.5769409128, -833983.3857335971 3219516.8365435847, -833813.5952401911 3219518.0837722593, -833289.754699286 3219550.7865982847, -833176.7275503097 3219470.9785779472, -833129.7006678982 3219405.3153843065, -832691.9977665469 3219166.1636381703, -832625.6428001489 3219157.6155232643, -832406.8588468062 3219121.6915466054, -832346.1919930675 3219108.783852501, -831918.9783071523 3219161.9891502205, -831460.4886770161 3219076.882701702, -831172.433160127 3219066.769409803, -831117.5794597294 3219054.705678382, -830668.308765922 3219131.727243298, -829908.0059111075 3219163.861074672, -829535.5569574448 3219483.676713518, -828884.8358551891 3219971.8028476564, -828867.105277368 3220002.9370030155, -828850.5000094345 3220036.2430066424, -828684.8659616088 3220206.3708079974, -828500.7676505464 3220483.9988892274, -828375.6433803298 3220748.7747196406, -828353.0954831041 3220854.4828443076, -828088.5104151643 3221046.378549617, -827657.4127943187 3221106.7831632867, -827218.3597749645 3221006.471879669, -827056.6790925859 3221046.8395853587, -827002.9644825346 3221063.6608314626, -826956.861135428 3221065.761238261, -826759.0951117207 3220931.6762447194, -826029.0614931867 3221055.2841301244, -825392.4193707844 3221684.321097712, -825320.9062593334 3222027.3883684985, -825080.3629223334 3222897.660985583, -825056.0665281476 3223033.172756836, -825048.0363509055 3223152.6102072345, -825044.6331286079 3223166.5223106206, -825039.0114027988 3223175.327606816, -825023.8758533467 3223179.565402391, -825014.8473380755 3223177.613897887, -824940.3332528694 3223158.4715996594, -824821.1417908176 3223131.6396567286, -824747.0217740627 3223091.9022967126, -823735.0173902716 3223489.1709371125, -823708.2508828836 3223645.620174356, -823670.6773322178 3223712.8355371174, -823605.8887642103 3223793.201023571, -823586.7306358411 3223810.8932958334, -823424.5438984366 3223954.844970771, -823401.1690161504 3223968.7830892103, -823373.9431754994 3223984.6917854664, -822942.6592185344 3224268.108480721, -822777.9696075877 3224492.14475554, -822444.3637908662 3224981.2529848963, -822436.5624820993 3225033.3344276426, -822186.9726258771 3225147.0214233543, -822158.1628099668 3225164.8303976585, -822062.957218487 3225171.284111939, -821738.4649553444 3225301.8661758965, -821642.4943173784 3225346.3037790405, -821328.2162493588 3225547.285289348, -821172.6940488351 3225651.362567856, -820709.5654693863 3226159.1443394744, -820662.059846449 3226264.8734306125, -820284.8008567595 3226605.5358870337, -820462.061699157 3227521.2687973347, -820461.8047769493 3227572.646793956, -820369.2902251409 3227716.9008752736, -820128.7021720842 3228039.2155473004, -820034.8455709029 3228233.439219333, -820026.2943408069 3228247.8627117826, -819851.485852283 3228535.529504626, -819685.692563395 3228979.865966049, -819604.8848352501 3229074.471299096, -819547.0854258345 3229135.672000386, -819520.5604024873 3229142.520219136, -818998.2725171731 3229204.8974547186, -818822.624772311 3229270.270453054, -818401.821824032 3230031.923915287, -818390.3594113807 3230191.756112551, -818232.7160628949 3230290.3993816557, -818204.388520671 3230313.2008002335, -817683.2458538455 3230226.586397242, -817236.0519617465 3231093.670316594, -817210.4408270186 3231159.231629809, -817207.2208635472 3231165.3079796224, -817201.5420224735 3231171.2691683862, -816908.3412405216 3231382.8880311893, -816713.3392136571 3231513.491322857, -816672.3979333956 3231520.8073121337, -816254.6869771235 3231653.13419343, -815876.7215616964 3231928.521742315, -815355.9503169694 3232046.92718645, -814704.0192968932 3231865.2294960907, -814532.6769783206 3231921.2904624827, -814407.2632551226 3231942.9734526817, -813718.8669382588 3231917.724773606, -812675.3052824448 3232302.832404922, -812083.8148438951 3232459.2578324266, -811914.7934985555 3232526.5588863753, -811811.4775772451 3232550.411278835, -811741.6107117088 3232535.976984001, -811722.2026225663 3232511.1936118957, -811472.84316057 3232257.6725993333, -811453.1386477952 3232215.470051629, -811649.8330321669 3232041.0078844815, -811858.4646337129 3231777.6548468666, -811831.9455499602 3230867.561231585, -812049.9656713175 3230720.2365511307, -811440.8315072006 3229587.7932766723, -811215.38395385 3229472.608179473, -810694.764480844 3229265.396876252, -810381.130263599 3229334.0222003814, -810159.6129536775 3229375.5919182743, -809912.2059971149 3229277.624374075, -809268.9039073167 3229004.4386421, -809094.914205499 3229049.6362929023, -808649.5325210971 3229299.734003772, -808335.9130262372 3229044.954124568, -807372.2492468074 3228557.8923298283, -807180.3731761378 3228692.2713361587, -806677.0363714861 3229382.6343968813, -806493.7647854167 3228824.7965205573, -806462.9894830531 3228707.459890131, -806155.8171668125 3228285.178863744, -806133.5901933996 3228226.8827677886, -806129.8305444713 3228085.9197094506, -806228.1315391791 3227813.298429116, -806296.1819968425 3227719.9173276783, -806395.770143141 3227685.493739844, -806762.1439326584 3227418.440205427, -807091.8059457529 3226964.035639228, -806447.766680767 3225990.9679994495, -805576.1780999462 3225187.61199145, -805333.9122696572 3225222.0338011854, -804227.1043756735 3225626.519941488, -804185.9493732059 3225618.9423011537, -804128.6444453555 3225590.194749658, -803991.0454460176 3225305.9469498163, -803780.6214958166 3225083.652046094, -803459.6362337212 3224965.1818771097, -802643.484288015 3224771.5920834504, -802280.4205542093 3225415.544029071, -802285.5032001083 3225689.5403249282, -802214.0265127269 3225618.9684637096, -802187.572691159 3225536.908156223, -801946.9163792313 3225167.6734874328, -800812.0109378976 3225080.420318452, -800761.5132562197 3225074.9826787487, -800715.415461172 3225058.400959533, -800672.4598280871 3224994.1776791145, -800664.470024512 3224971.5057058088, -800661.572220386 3224961.9490927854, -800600.195876779 3224804.7414210276, -800599.8856671306 3224793.492716544, -800652.9675866488 3224526.1223001573, -800662.3432364886 3224449.3775904616, -800664.8505457323 3224263.9389221426, -800660.8375780612 3224037.0370426904, -801279.0445330157 3223814.2972422726, -801299.7064751204 3223799.307875143, -801447.5703815067 3223704.9746947316, -802017.1929412507 3223433.551779758, -802294.5645672885 3223128.2519178875, -802405.065741448 3222994.1624732143, -802473.6505030879 3222865.283275687, -802922.9288814651 3222272.356772595, -803172.0688914269 3221665.790781541, -803197.9139085963 3221456.701185434, -803221.086219665 3221403.6191026936, -803258.1244755425 3221355.473066712, -803312.3118235974 3221270.6125658248, -803360.4592690686 3221188.545653657, -803400.3162344446 3221100.368298569, -803495.3105723489 3220602.9898144244, -803508.4862928637 3220580.6806814335, -803541.0943697615 3220519.67402114, -803573.7282749063 3220458.8104025237, -803691.9880252128 3220384.0011101775, -804502.6880998072 3220010.4179996885, -804725.5121214606 3220101.391834746, -805529.6775474611 3220127.5147293066, -806008.3692573603 3219688.738211398, -806043.8893352513 3219458.8921964834, -806286.1171190662 3219361.5001066593, -806863.9943666842 3218973.4107735176, -807044.7919743827 3218316.8187486543, -807057.5115298597 3218308.5743445195, -807110.3865540414 3218281.7270249557, -807348.9895998003 3218145.3048951994, -807361.2331181039 3218136.4448534306, -807372.3633404995 3218128.6308247377, -807435.7917205837 3218090.4291186617, -807448.7602086912 3218084.0820718375, -807578.8610142521 3218000.086514026, -808175.632124183 3217481.1411848394, -808546.1705452965 3217185.358278515, -808862.3478313497 3217067.2223046636, -809187.2735407365 3216702.68731672, -809268.5153137434 3216538.914474941, -809427.2310541653 3216392.811279752, -809537.6377876808 3216287.6150533995, -809553.4823300553 3216275.8645371133, -809865.4611306257 3215849.794684799, -810056.746880796 3215718.9569854164, -810063.5001023222 3215717.6171619142, -810189.5404220683 3215683.923198262, -810450.737828603 3215572.5805245335, -810748.7043909816 3215477.7605524147, -810761.0609764247 3215470.6505783354, -810797.7682195042 3215458.967550246, -811248.6820620031 3215057.189762582, -811298.4705548723 3214985.691760911, -811526.7786989226 3214965.1464936323, -811791.1831717388 3215169.154884047, -811877.596246394 3215202.648779551, -812142.9083432414 3215240.1252359794, -812383.7506222873 3215193.311829607, -812449.9662433796 3215171.067408636, -812870.5431530403 3215273.929706, -813754.9060639776 3216037.7167094396, -814065.1828823335 3216175.553927614, -814272.862977818 3216562.5898145884, -814257.5757088943 3216578.409550935, -813768.2111590562 3217094.8555094996, -813875.2068139797 3217715.1570541104, -814149.5504210466 3217927.410301056, -814268.2885755039 3217985.76994519, -815262.5308735556 3217949.7002085038, -815321.3430636263 3217976.628768369, -815456.8030328416 3218023.4043049696, -815520.7939171576 3218081.684414008, -815993.1380160113 3218591.228231069, -816094.7114680414 3218612.674706062, -816219.1811994386 3218777.6622946733, -816227.0327957602 3218814.6240218733, -816276.3448423734 3218958.239012563, -816271.2714836636 3218975.236578066, -816258.2447767742 3219013.069498193, -816440.3839719585 3219810.763256035, -816634.9127680786 3220096.6588890073, -817232.6296342858 3220480.422627392, -817320.303087707 3221358.7652415615, -817914.9714966615 3221613.964338537, -818332.3951990374 3221735.008766802, -819236.9394627886 3221569.96761163, -819435.4610183386 3221447.462793202, -819743.5714632221 3221321.140156407, -819869.1629874096 3221247.8601337606, -820078.364557295 3221076.4371132, -820171.4302360781 3221082.657346507, -821041.0030312836 3220494.460946962, -821096.2707904297 3220503.036817766, -821571.7832238838 3220654.089308058, -822166.3174745907 3220217.485381787, -822444.2129501221 3220282.138081515, -823004.0992136582 3219253.739206614, -822962.8707037867 3219076.095005955, -822951.6124680355 3218838.2887643515, -823323.3574199094 3218563.9715117943, -823945.9961490709 3218557.58058171, -824803.4524649412 3218167.9756513988, -825775.8168847032 3217782.8990365663, -826028.2219663997 3217457.5618596454, -826685.7095690492 3217080.4130793274, -827799.8326077688 3217410.6301869242, -827926.2218973176 3217309.7285273247, -828177.9746763423 3217149.05419218, -828389.755959892 3216401.811208317, -828976.9494660243 3215419.6119096708, -828755.3862309922 3215149.1887840517, -828543.4985089601 3214516.498445287, -828524.3094360499 3213914.510854755, -828495.1298890356 3213775.166198943, -828690.6863275525 3213248.9949618033, -828856.0920318626 3213040.628187843, -828945.3061030384 3212737.3064912003, -829051.2832238263 3212181.946377084, -829866.4690006755 3212201.9387625502, -830564.0323616416 3212687.178657138, -830705.0704170298 3212687.8345675776, -830913.1441580395 3212721.406761928, -831222.9140441015 3212661.392045927, -831903.9407460366 3212640.181970971, -832813.5128121986 3212448.8266709265, -833472.4973747402 3212138.711172773, -833556.3559964965 3212097.945498776, -833805.8939950407 3212100.2647799766, -834257.7479665912 3212084.717532191, -834442.9258907194 3212078.1487606084, -834689.9719755362 3212062.238960362, -834980.5151554324 3211917.77700198, -835263.4695294842 3211860.8955450254, -835794.6168861134 3211562.865704906, -836066.9635298033 3211279.1387963137, -836249.5648301747 3211332.6851264997, -836422.41162776 3211430.700709329, -836752.3743498672 3211545.631646233, -837590.5981677457 3211386.163542775, -837893.7851927865 3211588.2203142173, -837982.7294799195 3211641.3376189526, -837997.045204301 3211816.6323463623, -838031.4659299498 3212187.0240899525, -838063.8514762837 3212274.3697845084, -838020.7646146077 3212410.8970883624, -838134.4318274695 3212957.9694140707, -838435.1743554989 3213922.6627731235, -839409.3543893851 3214179.7028523358, -840011.2921838971 3213688.4998769355, -840206.8282370436 3213590.3200562773, -840234.8049852649 3213600.8032918884, -840940.5360532359 3214146.8864637096, -841335.5550318024 3214055.8185110674, -841511.6076741325 3213960.105741247, -841775.7822656832 3214032.556759104, -842499.6619341149 3213469.0049761105, -842593.7419337645 3213380.6985664386, -842809.2867528602 3213539.7966579124, -843158.3153857661 3213849.882482064, -843283.5238458471 3213967.2760794433, -843371.3119149106 3214129.30183637, -843464.2338679233 3214538.7729053595, -844186.5898975874 3214848.5530863907, -844472.6629513205 3214999.9586516107, -844510.6351250635 3215012.9240543423, -845035.561573879 3214965.607781108, -845777.4474977773 3214055.5537037016, -845790.4570172143 3214006.7191227814, -845971.3647133204 3213725.4168353714, -846028.8035146848 3213675.4294356876, -846705.1412520002 3213783.5431884886, -847130.7698151858 3212930.531496092, -847241.4274525268 3212639.978345526, -847436.6722949751 3212417.479274016, -847537.077499934 3212364.398369748, -848166.3444516041 3212233.2780280886, -848298.5659179288 3212141.472602228, -848419.7206053514 3212097.545749992, -848528.5314175847 3212067.185346724, -848777.4977986616 3212266.6206638436, -849591.1065392765 3212195.792135614, -850225.7518110409 3212024.341236941, -850471.7763136599 3211902.4165452966, -851592.9080192862 3212163.5806250595, -851795.5421379041 3211970.5315555967, -852533.4747830664 3212594.3945892393, -852704.7390724553 3212578.5237513515, -853361.5743658488 3212270.96250144, -853390.1833921593 3212241.3902966655, -853506.6035880661 3212508.172507282, -853497.5417709915 3212930.8266553413, -854103.5156194669 3213475.077621861, -854284.3395561865 3213506.6109416825, -854473.5183964735 3213732.8744298993, -854950.3330545657 3214222.0911920117, -855289.5311074624 3214694.655841219, -855387.2862405188 3214833.093435665, -855851.076102946 3215214.8382736063, -855978.6679026617 3215528.1266014157, -856037.2468720817 3215687.995338811, -856050.8429329148 3216703.7778870747, -856047.4892170284 3216714.05162358, -856018.7033733635 3216787.5572170527, -856003.1362095899 3216837.276755656, -855953.6588910923 3216903.715945221, -855886.0265025424 3217016.387563771, -855841.7438451767 3217091.7257285737, -855759.2032199429 3217104.0775287007, -855621.4819681877 3217062.3843361796, -855602.997369476 3217058.275965758, -855590.7244178604 3217053.9931336944, -855579.8838605165 3217048.0160038434, -855574.1535524537 3217044.390996336, -855125.9353303591 3216934.330849163, -854130.9525186196 3216608.0880906694))\"\n        ],\n        \"semantic_type\": \"\",\n        \"description\": \"\"\n      }\n    }\n  ]\n}"
            }
          },
          "metadata": {},
          "execution_count": 8
        }
      ],
      "source": [
        "# inspect our df\n",
        "cities.head()"
      ]
    },
    {
      "cell_type": "code",
      "execution_count": 9,
      "metadata": {
        "id": "ufoujl_p7tYu",
        "outputId": "018410a7-8be3-4040-e4e4-fdecbf4fa868",
        "colab": {
          "base_uri": "https://localhost:8080/",
          "height": 321
        }
      },
      "outputs": [
        {
          "output_type": "execute_result",
          "data": {
            "text/plain": [
              "<POLYGON ((385390.071 4202949.446, 384488.697 4203020.718, 384753.077 420342...>"
            ],
            "image/svg+xml": "<svg xmlns=\"http://www.w3.org/2000/svg\" xmlns:xlink=\"http://www.w3.org/1999/xlink\" width=\"300\" height=\"300\" viewBox=\"383860.5536619192 4202763.880314045 5010.274849566398 3788.7015817165375\" preserveAspectRatio=\"xMinYMin meet\"><g transform=\"matrix(1,0,0,-1,0,8409316.462209806)\"><path fill-rule=\"evenodd\" fill=\"#66cc99\" stroke=\"#555555\" stroke-width=\"33.40183233044265\" opacity=\"0.6\" d=\"M 385390.07103629207,4202949.446049213 L 384488.6965349777,4203020.717818107 L 384753.0765711785,4203427.801822938 L 384677.4959547153,4203840.138584375 L 384246.41023591015,4204192.825467478 L 384190.7473467802,4204258.444493887 L 384388.6053374556,4204487.589725824 L 384632.7731201378,4204659.064297296 L 384493.9755692274,4205622.242300161 L 384046.1193970883,4206025.334768435 L 384383.53640294774,4206367.016160592 L 384465.8594636576,4206306.481173671 L 384484.1597648995,4206265.2343718195 L 385183.72476620704,4205734.486373279 L 385203.2339821843,4205737.328276448 L 385222.7018852085,4205738.721866815 L 385668.5174538856,4205618.828274368 L 385882.68418758956,4205373.044171383 L 385946.0737471923,4205320.13202918 L 387073.33259073616,4205719.57448895 L 387251.608314635,4206111.810060351 L 387585.0993401561,4205633.779646993 L 388272.539515024,4205421.033183669 L 388685.2627763165,4205396.540836621 L 388493.18603282,4204839.78815067 L 388049.00995764235,4204380.916804809 L 388033.3373060529,4204181.306817622 L 387835.06108909316,4203914.344983151 L 387650.9480480584,4203915.972407358 L 387111.80549999943,4204013.97175 L 386249.8728894429,4203296.069011905 L 385390.07103629207,4202949.446049213 z\" /></g></svg>"
          },
          "metadata": {},
          "execution_count": 9
        }
      ],
      "source": [
        "# we access the geomerty of the first city in the 'cities' GeoDataFrame\n",
        "cities.loc[0, 'geometry']"
      ]
    },
    {
      "cell_type": "code",
      "execution_count": 10,
      "metadata": {
        "id": "BxFyCXEW7tYu",
        "outputId": "5f81b26a-3a82-44ab-b73f-abe80d2758d0",
        "colab": {
          "base_uri": "https://localhost:8080/",
          "height": 480
        }
      },
      "outputs": [
        {
          "output_type": "execute_result",
          "data": {
            "text/plain": [
              "<Axes: >"
            ]
          },
          "metadata": {},
          "execution_count": 10
        },
        {
          "output_type": "display_data",
          "data": {
            "text/plain": [
              "<Figure size 640x480 with 1 Axes>"
            ],
            "image/png": "[encoded data removed]"
          },
          "metadata": {}
        }
      ],
      "source": [
        "# plot our df\n",
        "cities.plot()"
      ]
    },
    {
      "cell_type": "markdown",
      "metadata": {
        "id": "YDgcrKSg7tYv"
      },
      "source": [
        "## Lines\n",
        "- Here we also use github to obtain a lines dataset"
      ]
    },
    {
      "cell_type": "code",
      "execution_count": 11,
      "metadata": {
        "gather": {
          "logged": 1698761844309
        },
        "jupyter": {
          "outputs_hidden": false,
          "source_hidden": false
        },
        "nteract": {
          "transient": {
            "deleting": false
          }
        },
        "id": "TJLwQNaE7tYv",
        "outputId": "225aa6ef-54da-4945-eb24-e9c75cefd83d",
        "colab": {
          "base_uri": "https://localhost:8080/"
        }
      },
      "outputs": [
        {
          "output_type": "stream",
          "name": "stderr",
          "text": [
            "WARNING:fiona._env:Several features with id = 4320053 have been found. Altering it to be unique. This warning will not be emitted anymore for this layer\n"
          ]
        }
      ],
      "source": [
        "# load in our df\n",
        "\n",
        "url = (\n",
        "    \"https://github.com/geochicasosm/lascallesdelasmujeres\"\n",
        "    \"/raw/master/data/madrid/final_tile.geojson\"\n",
        ")\n",
        "url\n",
        "\n",
        "streets = geopandas.read_file(url)"
      ]
    },
    {
      "cell_type": "code",
      "execution_count": 12,
      "metadata": {
        "gather": {
          "logged": 1698762312611
        },
        "jupyter": {
          "outputs_hidden": false,
          "source_hidden": false
        },
        "nteract": {
          "transient": {
            "deleting": false
          }
        },
        "id": "iZWdyD5L7tYv",
        "outputId": "19162232-2558-4232-bb36-a0b8c2f0af6a",
        "colab": {
          "base_uri": "https://localhost:8080/",
          "height": 293
        }
      },
      "outputs": [
        {
          "output_type": "execute_result",
          "data": {
            "text/plain": [
              "                                  name         id wikipedia_link  gender  \\\n",
              "0           Plaza Virgen de la Capilla  123483746                 Female   \n",
              "1       Plaza Nuestra Señora del Prado  123483930                 Female   \n",
              "2    Avenida del Cardenal Herrera Oria    4272448                   Male   \n",
              "3  Glorieta de Mariano Salvador Maella    4292687                   Male   \n",
              "4                  Calle de Pedro Rico    4292689                   Male   \n",
              "\n",
              "  scale category typeofroad                                           geometry  \n",
              "0              -          -  POLYGON ((-3.71472 40.48250, -3.71460 40.48229...  \n",
              "1              -          -  POLYGON ((-3.71404 40.48271, -3.71392 40.48249...  \n",
              "2           None       None  LINESTRING (-3.71421 40.48307, -3.71407 40.483...  \n",
              "3           None       None  LINESTRING (-3.71660 40.47909, -3.71665 40.479...  \n",
              "4           None       None  LINESTRING (-3.70463 40.48167, -3.70441 40.481...  "
            ],
            "text/html": [
              "\n",
              "  <div id=\"df-492a26a5-d8c6-4c40-8739-6e5fcb456e92\" class=\"colab-df-container\">\n",
              "    <div>\n",
              "<style scoped>\n",
              "    .dataframe tbody tr th:only-of-type {\n",
              "        vertical-align: middle;\n",
              "    }\n",
              "\n",
              "    .dataframe tbody tr th {\n",
              "        vertical-align: top;\n",
              "    }\n",
              "\n",
              "    .dataframe thead th {\n",
              "        text-align: right;\n",
              "    }\n",
              "</style>\n",
              "<table border=\"1\" class=\"dataframe\">\n",
              "  <thead>\n",
              "    <tr style=\"text-align: right;\">\n",
              "      <th></th>\n",
              "      <th>name</th>\n",
              "      <th>id</th>\n",
              "      <th>wikipedia_link</th>\n",
              "      <th>gender</th>\n",
              "      <th>scale</th>\n",
              "      <th>category</th>\n",
              "      <th>typeofroad</th>\n",
              "      <th>geometry</th>\n",
              "    </tr>\n",
              "  </thead>\n",
              "  <tbody>\n",
              "    <tr>\n",
              "      <th>0</th>\n",
              "      <td>Plaza Virgen de la Capilla</td>\n",
              "      <td>123483746</td>\n",
              "      <td></td>\n",
              "      <td>Female</td>\n",
              "      <td></td>\n",
              "      <td>-</td>\n",
              "      <td>-</td>\n",
              "      <td>POLYGON ((-3.71472 40.48250, -3.71460 40.48229...</td>\n",
              "    </tr>\n",
              "    <tr>\n",
              "      <th>1</th>\n",
              "      <td>Plaza Nuestra Señora del Prado</td>\n",
              "      <td>123483930</td>\n",
              "      <td></td>\n",
              "      <td>Female</td>\n",
              "      <td></td>\n",
              "      <td>-</td>\n",
              "      <td>-</td>\n",
              "      <td>POLYGON ((-3.71404 40.48271, -3.71392 40.48249...</td>\n",
              "    </tr>\n",
              "    <tr>\n",
              "      <th>2</th>\n",
              "      <td>Avenida del Cardenal Herrera Oria</td>\n",
              "      <td>4272448</td>\n",
              "      <td></td>\n",
              "      <td>Male</td>\n",
              "      <td></td>\n",
              "      <td>None</td>\n",
              "      <td>None</td>\n",
              "      <td>LINESTRING (-3.71421 40.48307, -3.71407 40.483...</td>\n",
              "    </tr>\n",
              "    <tr>\n",
              "      <th>3</th>\n",
              "      <td>Glorieta de Mariano Salvador Maella</td>\n",
              "      <td>4292687</td>\n",
              "      <td></td>\n",
              "      <td>Male</td>\n",
              "      <td></td>\n",
              "      <td>None</td>\n",
              "      <td>None</td>\n",
              "      <td>LINESTRING (-3.71660 40.47909, -3.71665 40.479...</td>\n",
              "    </tr>\n",
              "    <tr>\n",
              "      <th>4</th>\n",
              "      <td>Calle de Pedro Rico</td>\n",
              "      <td>4292689</td>\n",
              "      <td></td>\n",
              "      <td>Male</td>\n",
              "      <td></td>\n",
              "      <td>None</td>\n",
              "      <td>None</td>\n",
              "      <td>LINESTRING (-3.70463 40.48167, -3.70441 40.481...</td>\n",
              "    </tr>\n",
              "  </tbody>\n",
              "</table>\n",
              "</div>\n",
              "    <div class=\"colab-df-buttons\">\n",
              "\n",
              "  <div class=\"colab-df-container\">\n",
              "    <button class=\"colab-df-convert\" onclick=\"convertToInteractive('df-492a26a5-d8c6-4c40-8739-6e5fcb456e92')\"\n",
              "            title=\"Convert this dataframe to an interactive table.\"\n",
              "            style=\"display:none;\">\n",
              "\n",
              "  <svg xmlns=\"http://www.w3.org/2000/svg\" height=\"24px\" viewBox=\"0 -960 960 960\">\n",
              "    <path d=\"M120-120v-720h720v720H120Zm60-500h600v-160H180v160Zm220 220h160v-160H400v160Zm0 220h160v-160H400v160ZM180-400h160v-160H180v160Zm440 0h160v-160H620v160ZM180-180h160v-160H180v160Zm440 0h160v-160H620v160Z\"/>\n",
              "  </svg>\n",
              "    </button>\n",
              "\n",
              "  <style>\n",
              "    .colab-df-container {\n",
              "      display:flex;\n",
              "      gap: 12px;\n",
              "    }\n",
              "\n",
              "    .colab-df-convert {\n",
              "      background-color: #E8F0FE;\n",
              "      border: none;\n",
              "      border-radius: 50%;\n",
              "      cursor: pointer;\n",
              "      display: none;\n",
              "      fill: #1967D2;\n",
              "      height: 32px;\n",
              "      padding: 0 0 0 0;\n",
              "      width: 32px;\n",
              "    }\n",
              "\n",
              "    .colab-df-convert:hover {\n",
              "      background-color: #E2EBFA;\n",
              "      box-shadow: 0px 1px 2px rgba(60, 64, 67, 0.3), 0px 1px 3px 1px rgba(60, 64, 67, 0.15);\n",
              "      fill: #174EA6;\n",
              "    }\n",
              "\n",
              "    .colab-df-buttons div {\n",
              "      margin-bottom: 4px;\n",
              "    }\n",
              "\n",
              "    [theme=dark] .colab-df-convert {\n",
              "      background-color: #3B4455;\n",
              "      fill: #D2E3FC;\n",
              "    }\n",
              "\n",
              "    [theme=dark] .colab-df-convert:hover {\n",
              "      background-color: #434B5C;\n",
              "      box-shadow: 0px 1px 3px 1px rgba(0, 0, 0, 0.15);\n",
              "      filter: drop-shadow(0px 1px 2px rgba(0, 0, 0, 0.3));\n",
              "      fill: #FFFFFF;\n",
              "    }\n",
              "  </style>\n",
              "\n",
              "    <script>\n",
              "      const buttonEl =\n",
              "        document.querySelector('#df-492a26a5-d8c6-4c40-8739-6e5fcb456e92 button.colab-df-convert');\n",
              "      buttonEl.style.display =\n",
              "        google.colab.kernel.accessAllowed ? 'block' : 'none';\n",
              "\n",
              "      async function convertToInteractive(key) {\n",
              "        const element = document.querySelector('#df-492a26a5-d8c6-4c40-8739-6e5fcb456e92');\n",
              "        const dataTable =\n",
              "          await google.colab.kernel.invokeFunction('convertToInteractive',\n",
              "                                                    [key], {});\n",
              "        if (!dataTable) return;\n",
              "\n",
              "        const docLinkHtml = 'Like what you see? Visit the ' +\n",
              "          '<a target=\"_blank\" href=https://colab.research.google.com/notebooks/data_table.ipynb>data table notebook</a>'\n",
              "          + ' to learn more about interactive tables.';\n",
              "        element.innerHTML = '';\n",
              "        dataTable['output_type'] = 'display_data';\n",
              "        await google.colab.output.renderOutput(dataTable, element);\n",
              "        const docLink = document.createElement('div');\n",
              "        docLink.innerHTML = docLinkHtml;\n",
              "        element.appendChild(docLink);\n",
              "      }\n",
              "    </script>\n",
              "  </div>\n",
              "\n",
              "\n",
              "<div id=\"df-876830ef-f9f7-4c01-964e-cadf1a27e287\">\n",
              "  <button class=\"colab-df-quickchart\" onclick=\"quickchart('df-876830ef-f9f7-4c01-964e-cadf1a27e287')\"\n",
              "            title=\"Suggest charts\"\n",
              "            style=\"display:none;\">\n",
              "\n",
              "<svg xmlns=\"http://www.w3.org/2000/svg\" height=\"24px\"viewBox=\"0 0 24 24\"\n",
              "     width=\"24px\">\n",
              "    <g>\n",
              "        <path d=\"M19 3H5c-1.1 0-2 .9-2 2v14c0 1.1.9 2 2 2h14c1.1 0 2-.9 2-2V5c0-1.1-.9-2-2-2zM9 17H7v-7h2v7zm4 0h-2V7h2v10zm4 0h-2v-4h2v4z\"/>\n",
              "    </g>\n",
              "</svg>\n",
              "  </button>\n",
              "\n",
              "<style>\n",
              "  .colab-df-quickchart {\n",
              "      --bg-color: #E8F0FE;\n",
              "      --fill-color: #1967D2;\n",
              "      --hover-bg-color: #E2EBFA;\n",
              "      --hover-fill-color: #174EA6;\n",
              "      --disabled-fill-color: #AAA;\n",
              "      --disabled-bg-color: #DDD;\n",
              "  }\n",
              "\n",
              "  [theme=dark] .colab-df-quickchart {\n",
              "      --bg-color: #3B4455;\n",
              "      --fill-color: #D2E3FC;\n",
              "      --hover-bg-color: #434B5C;\n",
              "      --hover-fill-color: #FFFFFF;\n",
              "      --disabled-bg-color: #3B4455;\n",
              "      --disabled-fill-color: #666;\n",
              "  }\n",
              "\n",
              "  .colab-df-quickchart {\n",
              "    background-color: var(--bg-color);\n",
              "    border: none;\n",
              "    border-radius: 50%;\n",
              "    cursor: pointer;\n",
              "    display: none;\n",
              "    fill: var(--fill-color);\n",
              "    height: 32px;\n",
              "    padding: 0;\n",
              "    width: 32px;\n",
              "  }\n",
              "\n",
              "  .colab-df-quickchart:hover {\n",
              "    background-color: var(--hover-bg-color);\n",
              "    box-shadow: 0 1px 2px rgba(60, 64, 67, 0.3), 0 1px 3px 1px rgba(60, 64, 67, 0.15);\n",
              "    fill: var(--button-hover-fill-color);\n",
              "  }\n",
              "\n",
              "  .colab-df-quickchart-complete:disabled,\n",
              "  .colab-df-quickchart-complete:disabled:hover {\n",
              "    background-color: var(--disabled-bg-color);\n",
              "    fill: var(--disabled-fill-color);\n",
              "    box-shadow: none;\n",
              "  }\n",
              "\n",
              "  .colab-df-spinner {\n",
              "    border: 2px solid var(--fill-color);\n",
              "    border-color: transparent;\n",
              "    border-bottom-color: var(--fill-color);\n",
              "    animation:\n",
              "      spin 1s steps(1) infinite;\n",
              "  }\n",
              "\n",
              "  @keyframes spin {\n",
              "    0% {\n",
              "      border-color: transparent;\n",
              "      border-bottom-color: var(--fill-color);\n",
              "      border-left-color: var(--fill-color);\n",
              "    }\n",
              "    20% {\n",
              "      border-color: transparent;\n",
              "      border-left-color: var(--fill-color);\n",
              "      border-top-color: var(--fill-color);\n",
              "    }\n",
              "    30% {\n",
              "      border-color: transparent;\n",
              "      border-left-color: var(--fill-color);\n",
              "      border-top-color: var(--fill-color);\n",
              "      border-right-color: var(--fill-color);\n",
              "    }\n",
              "    40% {\n",
              "      border-color: transparent;\n",
              "      border-right-color: var(--fill-color);\n",
              "      border-top-color: var(--fill-color);\n",
              "    }\n",
              "    60% {\n",
              "      border-color: transparent;\n",
              "      border-right-color: var(--fill-color);\n",
              "    }\n",
              "    80% {\n",
              "      border-color: transparent;\n",
              "      border-right-color: var(--fill-color);\n",
              "      border-bottom-color: var(--fill-color);\n",
              "    }\n",
              "    90% {\n",
              "      border-color: transparent;\n",
              "      border-bottom-color: var(--fill-color);\n",
              "    }\n",
              "  }\n",
              "</style>\n",
              "\n",
              "  <script>\n",
              "    async function quickchart(key) {\n",
              "      const quickchartButtonEl =\n",
              "        document.querySelector('#' + key + ' button');\n",
              "      quickchartButtonEl.disabled = true;  // To prevent multiple clicks.\n",
              "      quickchartButtonEl.classList.add('colab-df-spinner');\n",
              "      try {\n",
              "        const charts = await google.colab.kernel.invokeFunction(\n",
              "            'suggestCharts', [key], {});\n",
              "      } catch (error) {\n",
              "        console.error('Error during call to suggestCharts:', error);\n",
              "      }\n",
              "      quickchartButtonEl.classList.remove('colab-df-spinner');\n",
              "      quickchartButtonEl.classList.add('colab-df-quickchart-complete');\n",
              "    }\n",
              "    (() => {\n",
              "      let quickchartButtonEl =\n",
              "        document.querySelector('#df-876830ef-f9f7-4c01-964e-cadf1a27e287 button');\n",
              "      quickchartButtonEl.style.display =\n",
              "        google.colab.kernel.accessAllowed ? 'block' : 'none';\n",
              "    })();\n",
              "  </script>\n",
              "</div>\n",
              "\n",
              "    </div>\n",
              "  </div>\n"
            ],
            "application/vnd.google.colaboratory.intrinsic+json": {
              "type": "dataframe",
              "variable_name": "streets",
              "repr_error": "'str' object has no attribute 'empty'"
            }
          },
          "metadata": {},
          "execution_count": 12
        }
      ],
      "source": [
        "# inspect our datafrane\n",
        "streets.head()\n"
      ]
    },
    {
      "cell_type": "code",
      "execution_count": 13,
      "metadata": {
        "gather": {
          "logged": 1698762316745
        },
        "jupyter": {
          "outputs_hidden": false,
          "source_hidden": false
        },
        "nteract": {
          "transient": {
            "deleting": false
          }
        },
        "id": "d6N_8Vtg7tYv",
        "outputId": "cddfac46-864c-430a-e4f5-24ca06e2c5db",
        "colab": {
          "base_uri": "https://localhost:8080/",
          "height": 121
        }
      },
      "outputs": [
        {
          "output_type": "execute_result",
          "data": {
            "text/plain": [
              "<POLYGON ((-3.715 40.483, -3.715 40.482, -3.714 40.482, -3.714 40.483, -3.71...>"
            ],
            "image/svg+xml": "<svg xmlns=\"http://www.w3.org/2000/svg\" xmlns:xlink=\"http://www.w3.org/1999/xlink\" width=\"100.0\" height=\"100.0\" viewBox=\"-3.7147432840000003 40.482268716 0.00053146800000059 0.0003712680000020896\" preserveAspectRatio=\"xMinYMin meet\"><g transform=\"matrix(1,0,0,-1,0,80.9649087)\"><path fill-rule=\"evenodd\" fill=\"#66cc99\" stroke=\"#555555\" stroke-width=\"1.06293600000118e-05\" opacity=\"0.6\" d=\"M -3.7147236,40.4825042 L -3.7146034,40.4822884 L -3.7142315,40.4823983 L -3.7143469,40.4826203 L -3.7147236,40.4825042 z\" /></g></svg>"
          },
          "metadata": {},
          "execution_count": 13
        }
      ],
      "source": [
        "# we access the geomerty of the first 'street' in the 'streets' GeoDataFrame\n",
        "streets.loc[0, 'geometry']"
      ]
    },
    {
      "cell_type": "code",
      "execution_count": 14,
      "metadata": {
        "gather": {
          "logged": 1698762344589
        },
        "jupyter": {
          "outputs_hidden": false,
          "source_hidden": false
        },
        "nteract": {
          "transient": {
            "deleting": false
          }
        },
        "id": "PdLWoGQ57tYv",
        "outputId": "813401bc-6b4d-4da2-df1b-4ca3440ecc7b",
        "colab": {
          "base_uri": "https://localhost:8080/",
          "height": 447
        }
      },
      "outputs": [
        {
          "output_type": "execute_result",
          "data": {
            "text/plain": [
              "<Axes: >"
            ]
          },
          "metadata": {},
          "execution_count": 14
        },
        {
          "output_type": "display_data",
          "data": {
            "text/plain": [
              "<Figure size 640x480 with 1 Axes>"
            ],
            "image/png": "[encoded data removed]"
          },
          "metadata": {}
        }
      ],
      "source": [
        "# plot our streets dataframe\n",
        "streets.plot()"
      ]
    },
    {
      "cell_type": "markdown",
      "metadata": {
        "id": "zxgvX-RI7tYv"
      },
      "source": [
        "### *A note on the parquet file format*:\n",
        "\n",
        "#### Parquet is a column-oriented data format designed as a modern alternative to CSV files.\n",
        "\n",
        "Its key benefits include:\n",
        "\n",
        "1. Columnar Storage: Parquet stores data in columns rather than rows, which improves query performance by minimizing I/O operations.\n",
        "2. Compression Efficiency: It uses efficient compression algorithms, reducing storage space.\n",
        "3. Schema Evolution: Parquet files can handle schema changes gracefully, making them suitable for evolving data.\n",
        "4. Predicates Pushdown: Query engines can push filters down to the storage layer, further optimizing queries.\n",
        "5. Column Pruning: Only relevant columns are read during query execution, enhancing efficiency.\n",
        "\n",
        "### GeoParquet: Adding Geospatial Flavor\n",
        "GeoParquet extends Parquet by incorporating interoperable geospatial types (such as Point, Line, and Polygon).\n",
        "Here’s why GeoParquet shines:\n",
        "1. Standard Geospatial Data in Parquet: GeoParquet adheres to an incubating Open Geospatial Consortium (OGC) standard, enabling seamless interoperability between systems that read or write spatial data in Parquet format.\n",
        "2. Cloud Data Warehouse Interoperability: Platforms like Snowflake, BigQuery, RedShift, and DataBricks can work harmoniously with GeoParquet, sharing the same geospatial data format.\n",
        "3. Structured Schema: GeoParquet maintains the schema and data type of each column alongside the data files, ensuring consistency and ease of use.\n",
        "4. Spatial Analysis with Columnar Efficiency: Data science workflows benefit from columnar data formats, and geospatial analysis can tap into these innovations.\n",
        "5. Tools and Libraries: GeoParquet is supported by various tools and libraries, including GeoPandas, QGIS, Scribble Maps, BigQuery Converter, CARTO, and more.\n",
        "\n",
        "**Strengths and Weaknesses of Parquet (Including GeoParquet)**\n",
        "\n",
        "Strengths:\n",
        "- Efficient storage and compression.\n",
        "- Schema evolution support.\n",
        "- Excellent for analytical workloads.\n",
        "- Geospatial capabilities in GeoParquet.\n",
        "\n",
        "Weaknesses:\n",
        "- Not ideal for transactional workloads.\n",
        "- Limited support for updates and deletes.\n",
        "- Complexity in handling nested structures.\n",
        "- Requires specialized tools for efficient data manipulation."
      ]
    },
    {
      "cell_type": "code",
      "execution_count": 18,
      "metadata": {
        "gather": {
          "logged": 1698765874199
        },
        "jupyter": {
          "outputs_hidden": false,
          "source_hidden": false
        },
        "nteract": {
          "transient": {
            "deleting": false
          }
        },
        "id": "-czkDtBT7tYw"
      },
      "outputs": [],
      "source": [
        "import pyarrow\n",
        "# data in github\n",
        "pois = geopandas.read_parquet(r\"/content/pois_bars_madrid.parquet\")"
      ]
    },
    {
      "cell_type": "code",
      "source": [],
      "metadata": {
        "id": "MqJRK2B_WzvK"
      },
      "execution_count": null,
      "outputs": []
    },
    {
      "cell_type": "code",
      "execution_count": 19,
      "metadata": {
        "id": "wPY6j_J57tYw",
        "outputId": "1f9b1314-e474-4660-dc85-dd18decdefe8",
        "colab": {
          "base_uri": "https://localhost:8080/",
          "height": 325
        }
      },
      "outputs": [
        {
          "output_type": "execute_result",
          "data": {
            "text/plain": [
              "        unique_id      osmid element_type addr:city addr:housenumber  \\\n",
              "0   node/26808561   26808561         node    Madrid                2   \n",
              "1   node/43274445   43274445         node      None             None   \n",
              "2   node/47216276   47216276         node      None             None   \n",
              "3  node/167301896  167301896         node      None             None   \n",
              "4  node/167301964  167301964         node      None             None   \n",
              "\n",
              "  addr:postcode               addr:street amenity             email  \\\n",
              "0         28015  Plaza de Cristino Martos     bar  hola@murcafe.com   \n",
              "1          None                      None     bar              None   \n",
              "2          None                      None     bar              None   \n",
              "3          None                      None     bar              None   \n",
              "4          None                      None     bar              None   \n",
              "\n",
              "                 name  ... payment:cash payment:credit_cards start_date  \\\n",
              "0            Mür Café  ...         None                 None       None   \n",
              "1  Cadillac Solitario  ...         None                 None       None   \n",
              "2         Bar Barocco  ...         None                 None       None   \n",
              "3                 Bar  ...         None                 None       None   \n",
              "4                None  ...         None                 None       None   \n",
              "\n",
              "  air_conditioning nodes building building:levels source:date barrier level  \n",
              "0             None  None     None            None        None    None  None  \n",
              "1             None  None     None            None        None    None  None  \n",
              "2             None  None     None            None        None    None  None  \n",
              "3             None  None     None            None        None    None  None  \n",
              "4             None  None     None            None        None    None  None  \n",
              "\n",
              "[5 rows x 82 columns]"
            ],
            "text/html": [
              "\n",
              "  <div id=\"df-ac1f96ef-8479-40a4-be22-6c7d5a1df9ca\" class=\"colab-df-container\">\n",
              "    <div>\n",
              "<style scoped>\n",
              "    .dataframe tbody tr th:only-of-type {\n",
              "        vertical-align: middle;\n",
              "    }\n",
              "\n",
              "    .dataframe tbody tr th {\n",
              "        vertical-align: top;\n",
              "    }\n",
              "\n",
              "    .dataframe thead th {\n",
              "        text-align: right;\n",
              "    }\n",
              "</style>\n",
              "<table border=\"1\" class=\"dataframe\">\n",
              "  <thead>\n",
              "    <tr style=\"text-align: right;\">\n",
              "      <th></th>\n",
              "      <th>unique_id</th>\n",
              "      <th>osmid</th>\n",
              "      <th>element_type</th>\n",
              "      <th>addr:city</th>\n",
              "      <th>addr:housenumber</th>\n",
              "      <th>addr:postcode</th>\n",
              "      <th>addr:street</th>\n",
              "      <th>amenity</th>\n",
              "      <th>email</th>\n",
              "      <th>name</th>\n",
              "      <th>...</th>\n",
              "      <th>payment:cash</th>\n",
              "      <th>payment:credit_cards</th>\n",
              "      <th>start_date</th>\n",
              "      <th>air_conditioning</th>\n",
              "      <th>nodes</th>\n",
              "      <th>building</th>\n",
              "      <th>building:levels</th>\n",
              "      <th>source:date</th>\n",
              "      <th>barrier</th>\n",
              "      <th>level</th>\n",
              "    </tr>\n",
              "  </thead>\n",
              "  <tbody>\n",
              "    <tr>\n",
              "      <th>0</th>\n",
              "      <td>node/26808561</td>\n",
              "      <td>26808561</td>\n",
              "      <td>node</td>\n",
              "      <td>Madrid</td>\n",
              "      <td>2</td>\n",
              "      <td>28015</td>\n",
              "      <td>Plaza de Cristino Martos</td>\n",
              "      <td>bar</td>\n",
              "      <td>hola@murcafe.com</td>\n",
              "      <td>Mür Café</td>\n",
              "      <td>...</td>\n",
              "      <td>None</td>\n",
              "      <td>None</td>\n",
              "      <td>None</td>\n",
              "      <td>None</td>\n",
              "      <td>None</td>\n",
              "      <td>None</td>\n",
              "      <td>None</td>\n",
              "      <td>None</td>\n",
              "      <td>None</td>\n",
              "      <td>None</td>\n",
              "    </tr>\n",
              "    <tr>\n",
              "      <th>1</th>\n",
              "      <td>node/43274445</td>\n",
              "      <td>43274445</td>\n",
              "      <td>node</td>\n",
              "      <td>None</td>\n",
              "      <td>None</td>\n",
              "      <td>None</td>\n",
              "      <td>None</td>\n",
              "      <td>bar</td>\n",
              "      <td>None</td>\n",
              "      <td>Cadillac Solitario</td>\n",
              "      <td>...</td>\n",
              "      <td>None</td>\n",
              "      <td>None</td>\n",
              "      <td>None</td>\n",
              "      <td>None</td>\n",
              "      <td>None</td>\n",
              "      <td>None</td>\n",
              "      <td>None</td>\n",
              "      <td>None</td>\n",
              "      <td>None</td>\n",
              "      <td>None</td>\n",
              "    </tr>\n",
              "    <tr>\n",
              "      <th>2</th>\n",
              "      <td>node/47216276</td>\n",
              "      <td>47216276</td>\n",
              "      <td>node</td>\n",
              "      <td>None</td>\n",
              "      <td>None</td>\n",
              "      <td>None</td>\n",
              "      <td>None</td>\n",
              "      <td>bar</td>\n",
              "      <td>None</td>\n",
              "      <td>Bar Barocco</td>\n",
              "      <td>...</td>\n",
              "      <td>None</td>\n",
              "      <td>None</td>\n",
              "      <td>None</td>\n",
              "      <td>None</td>\n",
              "      <td>None</td>\n",
              "      <td>None</td>\n",
              "      <td>None</td>\n",
              "      <td>None</td>\n",
              "      <td>None</td>\n",
              "      <td>None</td>\n",
              "    </tr>\n",
              "    <tr>\n",
              "      <th>3</th>\n",
              "      <td>node/167301896</td>\n",
              "      <td>167301896</td>\n",
              "      <td>node</td>\n",
              "      <td>None</td>\n",
              "      <td>None</td>\n",
              "      <td>None</td>\n",
              "      <td>None</td>\n",
              "      <td>bar</td>\n",
              "      <td>None</td>\n",
              "      <td>Bar</td>\n",
              "      <td>...</td>\n",
              "      <td>None</td>\n",
              "      <td>None</td>\n",
              "      <td>None</td>\n",
              "      <td>None</td>\n",
              "      <td>None</td>\n",
              "      <td>None</td>\n",
              "      <td>None</td>\n",
              "      <td>None</td>\n",
              "      <td>None</td>\n",
              "      <td>None</td>\n",
              "    </tr>\n",
              "    <tr>\n",
              "      <th>4</th>\n",
              "      <td>node/167301964</td>\n",
              "      <td>167301964</td>\n",
              "      <td>node</td>\n",
              "      <td>None</td>\n",
              "      <td>None</td>\n",
              "      <td>None</td>\n",
              "      <td>None</td>\n",
              "      <td>bar</td>\n",
              "      <td>None</td>\n",
              "      <td>None</td>\n",
              "      <td>...</td>\n",
              "      <td>None</td>\n",
              "      <td>None</td>\n",
              "      <td>None</td>\n",
              "      <td>None</td>\n",
              "      <td>None</td>\n",
              "      <td>None</td>\n",
              "      <td>None</td>\n",
              "      <td>None</td>\n",
              "      <td>None</td>\n",
              "      <td>None</td>\n",
              "    </tr>\n",
              "  </tbody>\n",
              "</table>\n",
              "<p>5 rows × 82 columns</p>\n",
              "</div>\n",
              "    <div class=\"colab-df-buttons\">\n",
              "\n",
              "  <div class=\"colab-df-container\">\n",
              "    <button class=\"colab-df-convert\" onclick=\"convertToInteractive('df-ac1f96ef-8479-40a4-be22-6c7d5a1df9ca')\"\n",
              "            title=\"Convert this dataframe to an interactive table.\"\n",
              "            style=\"display:none;\">\n",
              "\n",
              "  <svg xmlns=\"http://www.w3.org/2000/svg\" height=\"24px\" viewBox=\"0 -960 960 960\">\n",
              "    <path d=\"M120-120v-720h720v720H120Zm60-500h600v-160H180v160Zm220 220h160v-160H400v160Zm0 220h160v-160H400v160ZM180-400h160v-160H180v160Zm440 0h160v-160H620v160ZM180-180h160v-160H180v160Zm440 0h160v-160H620v160Z\"/>\n",
              "  </svg>\n",
              "    </button>\n",
              "\n",
              "  <style>\n",
              "    .colab-df-container {\n",
              "      display:flex;\n",
              "      gap: 12px;\n",
              "    }\n",
              "\n",
              "    .colab-df-convert {\n",
              "      background-color: #E8F0FE;\n",
              "      border: none;\n",
              "      border-radius: 50%;\n",
              "      cursor: pointer;\n",
              "      display: none;\n",
              "      fill: #1967D2;\n",
              "      height: 32px;\n",
              "      padding: 0 0 0 0;\n",
              "      width: 32px;\n",
              "    }\n",
              "\n",
              "    .colab-df-convert:hover {\n",
              "      background-color: #E2EBFA;\n",
              "      box-shadow: 0px 1px 2px rgba(60, 64, 67, 0.3), 0px 1px 3px 1px rgba(60, 64, 67, 0.15);\n",
              "      fill: #174EA6;\n",
              "    }\n",
              "\n",
              "    .colab-df-buttons div {\n",
              "      margin-bottom: 4px;\n",
              "    }\n",
              "\n",
              "    [theme=dark] .colab-df-convert {\n",
              "      background-color: #3B4455;\n",
              "      fill: #D2E3FC;\n",
              "    }\n",
              "\n",
              "    [theme=dark] .colab-df-convert:hover {\n",
              "      background-color: #434B5C;\n",
              "      box-shadow: 0px 1px 3px 1px rgba(0, 0, 0, 0.15);\n",
              "      filter: drop-shadow(0px 1px 2px rgba(0, 0, 0, 0.3));\n",
              "      fill: #FFFFFF;\n",
              "    }\n",
              "  </style>\n",
              "\n",
              "    <script>\n",
              "      const buttonEl =\n",
              "        document.querySelector('#df-ac1f96ef-8479-40a4-be22-6c7d5a1df9ca button.colab-df-convert');\n",
              "      buttonEl.style.display =\n",
              "        google.colab.kernel.accessAllowed ? 'block' : 'none';\n",
              "\n",
              "      async function convertToInteractive(key) {\n",
              "        const element = document.querySelector('#df-ac1f96ef-8479-40a4-be22-6c7d5a1df9ca');\n",
              "        const dataTable =\n",
              "          await google.colab.kernel.invokeFunction('convertToInteractive',\n",
              "                                                    [key], {});\n",
              "        if (!dataTable) return;\n",
              "\n",
              "        const docLinkHtml = 'Like what you see? Visit the ' +\n",
              "          '<a target=\"_blank\" href=https://colab.research.google.com/notebooks/data_table.ipynb>data table notebook</a>'\n",
              "          + ' to learn more about interactive tables.';\n",
              "        element.innerHTML = '';\n",
              "        dataTable['output_type'] = 'display_data';\n",
              "        await google.colab.output.renderOutput(dataTable, element);\n",
              "        const docLink = document.createElement('div');\n",
              "        docLink.innerHTML = docLinkHtml;\n",
              "        element.appendChild(docLink);\n",
              "      }\n",
              "    </script>\n",
              "  </div>\n",
              "\n",
              "\n",
              "<div id=\"df-dc6f007e-fd72-43b3-acdd-6fd43314044d\">\n",
              "  <button class=\"colab-df-quickchart\" onclick=\"quickchart('df-dc6f007e-fd72-43b3-acdd-6fd43314044d')\"\n",
              "            title=\"Suggest charts\"\n",
              "            style=\"display:none;\">\n",
              "\n",
              "<svg xmlns=\"http://www.w3.org/2000/svg\" height=\"24px\"viewBox=\"0 0 24 24\"\n",
              "     width=\"24px\">\n",
              "    <g>\n",
              "        <path d=\"M19 3H5c-1.1 0-2 .9-2 2v14c0 1.1.9 2 2 2h14c1.1 0 2-.9 2-2V5c0-1.1-.9-2-2-2zM9 17H7v-7h2v7zm4 0h-2V7h2v10zm4 0h-2v-4h2v4z\"/>\n",
              "    </g>\n",
              "</svg>\n",
              "  </button>\n",
              "\n",
              "<style>\n",
              "  .colab-df-quickchart {\n",
              "      --bg-color: #E8F0FE;\n",
              "      --fill-color: #1967D2;\n",
              "      --hover-bg-color: #E2EBFA;\n",
              "      --hover-fill-color: #174EA6;\n",
              "      --disabled-fill-color: #AAA;\n",
              "      --disabled-bg-color: #DDD;\n",
              "  }\n",
              "\n",
              "  [theme=dark] .colab-df-quickchart {\n",
              "      --bg-color: #3B4455;\n",
              "      --fill-color: #D2E3FC;\n",
              "      --hover-bg-color: #434B5C;\n",
              "      --hover-fill-color: #FFFFFF;\n",
              "      --disabled-bg-color: #3B4455;\n",
              "      --disabled-fill-color: #666;\n",
              "  }\n",
              "\n",
              "  .colab-df-quickchart {\n",
              "    background-color: var(--bg-color);\n",
              "    border: none;\n",
              "    border-radius: 50%;\n",
              "    cursor: pointer;\n",
              "    display: none;\n",
              "    fill: var(--fill-color);\n",
              "    height: 32px;\n",
              "    padding: 0;\n",
              "    width: 32px;\n",
              "  }\n",
              "\n",
              "  .colab-df-quickchart:hover {\n",
              "    background-color: var(--hover-bg-color);\n",
              "    box-shadow: 0 1px 2px rgba(60, 64, 67, 0.3), 0 1px 3px 1px rgba(60, 64, 67, 0.15);\n",
              "    fill: var(--button-hover-fill-color);\n",
              "  }\n",
              "\n",
              "  .colab-df-quickchart-complete:disabled,\n",
              "  .colab-df-quickchart-complete:disabled:hover {\n",
              "    background-color: var(--disabled-bg-color);\n",
              "    fill: var(--disabled-fill-color);\n",
              "    box-shadow: none;\n",
              "  }\n",
              "\n",
              "  .colab-df-spinner {\n",
              "    border: 2px solid var(--fill-color);\n",
              "    border-color: transparent;\n",
              "    border-bottom-color: var(--fill-color);\n",
              "    animation:\n",
              "      spin 1s steps(1) infinite;\n",
              "  }\n",
              "\n",
              "  @keyframes spin {\n",
              "    0% {\n",
              "      border-color: transparent;\n",
              "      border-bottom-color: var(--fill-color);\n",
              "      border-left-color: var(--fill-color);\n",
              "    }\n",
              "    20% {\n",
              "      border-color: transparent;\n",
              "      border-left-color: var(--fill-color);\n",
              "      border-top-color: var(--fill-color);\n",
              "    }\n",
              "    30% {\n",
              "      border-color: transparent;\n",
              "      border-left-color: var(--fill-color);\n",
              "      border-top-color: var(--fill-color);\n",
              "      border-right-color: var(--fill-color);\n",
              "    }\n",
              "    40% {\n",
              "      border-color: transparent;\n",
              "      border-right-color: var(--fill-color);\n",
              "      border-top-color: var(--fill-color);\n",
              "    }\n",
              "    60% {\n",
              "      border-color: transparent;\n",
              "      border-right-color: var(--fill-color);\n",
              "    }\n",
              "    80% {\n",
              "      border-color: transparent;\n",
              "      border-right-color: var(--fill-color);\n",
              "      border-bottom-color: var(--fill-color);\n",
              "    }\n",
              "    90% {\n",
              "      border-color: transparent;\n",
              "      border-bottom-color: var(--fill-color);\n",
              "    }\n",
              "  }\n",
              "</style>\n",
              "\n",
              "  <script>\n",
              "    async function quickchart(key) {\n",
              "      const quickchartButtonEl =\n",
              "        document.querySelector('#' + key + ' button');\n",
              "      quickchartButtonEl.disabled = true;  // To prevent multiple clicks.\n",
              "      quickchartButtonEl.classList.add('colab-df-spinner');\n",
              "      try {\n",
              "        const charts = await google.colab.kernel.invokeFunction(\n",
              "            'suggestCharts', [key], {});\n",
              "      } catch (error) {\n",
              "        console.error('Error during call to suggestCharts:', error);\n",
              "      }\n",
              "      quickchartButtonEl.classList.remove('colab-df-spinner');\n",
              "      quickchartButtonEl.classList.add('colab-df-quickchart-complete');\n",
              "    }\n",
              "    (() => {\n",
              "      let quickchartButtonEl =\n",
              "        document.querySelector('#df-dc6f007e-fd72-43b3-acdd-6fd43314044d button');\n",
              "      quickchartButtonEl.style.display =\n",
              "        google.colab.kernel.accessAllowed ? 'block' : 'none';\n",
              "    })();\n",
              "  </script>\n",
              "</div>\n",
              "\n",
              "    </div>\n",
              "  </div>\n"
            ],
            "application/vnd.google.colaboratory.intrinsic+json": {
              "type": "dataframe",
              "variable_name": "pois"
            }
          },
          "metadata": {},
          "execution_count": 19
        }
      ],
      "source": [
        "# here we sinepct our df\n",
        "pois.head()"
      ]
    },
    {
      "cell_type": "code",
      "execution_count": 20,
      "metadata": {
        "id": "3bn0dcdp7tYw",
        "outputId": "d5feb275-03ab-4242-cb58-1799add64661",
        "colab": {
          "base_uri": "https://localhost:8080/",
          "height": 121
        }
      },
      "outputs": [
        {
          "output_type": "execute_result",
          "data": {
            "text/plain": [
              "<POINT (-3.712 40.426)>"
            ],
            "image/svg+xml": "<svg xmlns=\"http://www.w3.org/2000/svg\" xmlns:xlink=\"http://www.w3.org/1999/xlink\" width=\"100.0\" height=\"100.0\" viewBox=\"-4.7121995000000005 39.4256418 2.0000000000000004 2.0\" preserveAspectRatio=\"xMinYMin meet\"><g transform=\"matrix(1,0,0,-1,0,80.8512836)\"><circle cx=\"-3.7121995\" cy=\"40.4256418\" r=\"0.06000000000000001\" stroke=\"#555555\" stroke-width=\"0.020000000000000004\" fill=\"#66cc99\" opacity=\"0.6\" /></g></svg>"
          },
          "metadata": {},
          "execution_count": 20
        }
      ],
      "source": [
        "# we access the geomerty of the first 'poi' in the 'pois' GeoDataFrame\n",
        "pois.loc[0, 'geometry']"
      ]
    },
    {
      "cell_type": "code",
      "execution_count": 21,
      "metadata": {
        "application/vnd.databricks.v1+cell": {
          "cellMetadata": {},
          "inputWidgets": {},
          "nuid": "545f8a74-68b9-45bf-8348-c36d1f1d4cc8",
          "showTitle": false,
          "title": ""
        },
        "gather": {
          "logged": 1698757574147
        },
        "id": "sikUJs2v7tYw",
        "outputId": "8e067744-54ef-4089-9338-e2b75cf6183e",
        "colab": {
          "base_uri": "https://localhost:8080/",
          "height": 447
        }
      },
      "outputs": [
        {
          "output_type": "execute_result",
          "data": {
            "text/plain": [
              "<Axes: >"
            ]
          },
          "metadata": {},
          "execution_count": 21
        },
        {
          "output_type": "display_data",
          "data": {
            "text/plain": [
              "<Figure size 640x480 with 1 Axes>"
            ],
            "image/png": "[encoded data removed]"
          },
          "metadata": {}
        }
      ],
      "source": [
        "# let's plot it\n",
        "pois.plot()\n"
      ]
    },
    {
      "cell_type": "code",
      "execution_count": 22,
      "metadata": {
        "id": "iPOLjRyn7tYw",
        "outputId": "b7cf061e-1e13-4f0a-eed0-00cb88cf30ec",
        "colab": {
          "base_uri": "https://localhost:8080/",
          "height": 447
        }
      },
      "outputs": [
        {
          "output_type": "execute_result",
          "data": {
            "text/plain": [
              "<Axes: >"
            ]
          },
          "metadata": {},
          "execution_count": 22
        },
        {
          "output_type": "display_data",
          "data": {
            "text/plain": [
              "<Figure size 640x480 with 1 Axes>"
            ],
            "image/png": "[encoded data removed]"
          },
          "metadata": {}
        }
      ],
      "source": [
        "# it's a bit busy. Let's change the transparency\n",
        "pois.plot(alpha=0.1)"
      ]
    },
    {
      "cell_type": "markdown",
      "metadata": {
        "id": "2UeUP06D7tYw"
      },
      "source": [
        "## Manipulating Geospatial Data"
      ]
    },
    {
      "cell_type": "markdown",
      "metadata": {
        "id": "3I-iStGb7tYx"
      },
      "source": [
        "### Examples on Area and legnth"
      ]
    },
    {
      "cell_type": "code",
      "execution_count": 23,
      "metadata": {
        "id": "trGLEBu57tYx",
        "outputId": "457155f0-52ad-42e9-b414-d729badc0253",
        "colab": {
          "base_uri": "https://localhost:8080/"
        }
      },
      "outputs": [
        {
          "output_type": "execute_result",
          "data": {
            "text/plain": [
              "0    8.449666e+06\n",
              "1    9.121270e+06\n",
              "2    1.322653e+07\n",
              "3    6.808121e+07\n",
              "4    1.072284e+07\n",
              "dtype: float64"
            ]
          },
          "metadata": {},
          "execution_count": 23
        }
      ],
      "source": [
        "# Let's calculate the area\n",
        "# This indicates that the area of the first city in our table takes up 8,450,000 squared metres.\n",
        "city_areas = cities.area\n",
        "city_areas.head()"
      ]
    },
    {
      "cell_type": "code",
      "execution_count": 24,
      "metadata": {
        "id": "wXwimv247tYx",
        "outputId": "d290391b-1f4f-4068-a75c-1e140b060ddf",
        "colab": {
          "base_uri": "https://localhost:8080/"
        }
      },
      "outputs": [
        {
          "output_type": "execute_result",
          "data": {
            "text/plain": [
              "<Projected CRS: EPSG:25830>\n",
              "Name: ETRS89 / UTM zone 30N\n",
              "Axis Info [cartesian]:\n",
              "- E[east]: Easting (metre)\n",
              "- N[north]: Northing (metre)\n",
              "Area of Use:\n",
              "- name: Europe between 6°W and 0°W: Faroe Islands offshore; Ireland - offshore; Jan Mayen - offshore; Norway including Svalbard - offshore; Spain - onshore and offshore.\n",
              "- bounds: (-6.0, 35.26, 0.01, 80.49)\n",
              "Coordinate Operation:\n",
              "- name: UTM zone 30N\n",
              "- method: Transverse Mercator\n",
              "Datum: European Terrestrial Reference System 1989 ensemble\n",
              "- Ellipsoid: GRS 1980\n",
              "- Prime Meridian: Greenwich"
            ]
          },
          "metadata": {},
          "execution_count": 24
        }
      ],
      "source": [
        "cities.crs"
      ]
    },
    {
      "cell_type": "code",
      "execution_count": 25,
      "metadata": {
        "id": "NsbzVLhK7tYx",
        "outputId": "399326b6-fd39-4f01-a1b6-ac89c00ed91f",
        "colab": {
          "base_uri": "https://localhost:8080/"
        }
      },
      "outputs": [
        {
          "output_type": "execute_result",
          "data": {
            "text/plain": [
              "0     8.449666\n",
              "1     9.121270\n",
              "2    13.226528\n",
              "3    68.081212\n",
              "4    10.722843\n",
              "dtype: float64"
            ]
          },
          "metadata": {},
          "execution_count": 25
        }
      ],
      "source": [
        "# If we wanted to convert into squared kilometres, we can divide by 1,000,000:\n",
        "areas_in_sqkm = city_areas / 1000000\n",
        "areas_in_sqkm.head()"
      ]
    },
    {
      "cell_type": "code",
      "execution_count": 26,
      "metadata": {
        "id": "BqgQikYK7tYx",
        "outputId": "c5e12a86-8c61-4117-ed00-b47525e86026",
        "colab": {
          "base_uri": "https://localhost:8080/"
        }
      },
      "outputs": [
        {
          "output_type": "stream",
          "name": "stderr",
          "text": [
            "<ipython-input-26-8f53bbf4ef81>:2: UserWarning: Geometry is in a geographic CRS. Results from 'length' are likely incorrect. Use 'GeoSeries.to_crs()' to re-project geometries to a projected CRS before this operation.\n",
            "\n",
            "  street_length = streets.length\n"
          ]
        },
        {
          "output_type": "execute_result",
          "data": {
            "text/plain": [
              "0    0.001279\n",
              "1    0.001279\n",
              "2    0.004375\n",
              "3    0.001594\n",
              "4    0.001151\n",
              "dtype: float64"
            ]
          },
          "metadata": {},
          "execution_count": 26
        }
      ],
      "source": [
        "# what happens if we don't convert the crs\n",
        "street_length = streets.length\n",
        "street_length.head()"
      ]
    },
    {
      "cell_type": "code",
      "execution_count": 27,
      "metadata": {
        "id": "2YK_f0KS7tYx",
        "outputId": "1f873add-a870-4a1b-db83-e36d34176f9d",
        "colab": {
          "base_uri": "https://localhost:8080/"
        }
      },
      "outputs": [
        {
          "output_type": "execute_result",
          "data": {
            "text/plain": [
              "<Geographic 2D CRS: EPSG:4326>\n",
              "Name: WGS 84\n",
              "Axis Info [ellipsoidal]:\n",
              "- Lat[north]: Geodetic latitude (degree)\n",
              "- Lon[east]: Geodetic longitude (degree)\n",
              "Area of Use:\n",
              "- name: World.\n",
              "- bounds: (-180.0, -90.0, 180.0, 90.0)\n",
              "Datum: World Geodetic System 1984 ensemble\n",
              "- Ellipsoid: WGS 84\n",
              "- Prime Meridian: Greenwich"
            ]
          },
          "metadata": {},
          "execution_count": 27
        }
      ],
      "source": [
        "streets.crs"
      ]
    },
    {
      "cell_type": "code",
      "execution_count": 28,
      "metadata": {
        "id": "rXhk3EXf7tY2",
        "outputId": "176f0e93-56a6-40b6-dc2e-4506e155c1c2",
        "colab": {
          "base_uri": "https://localhost:8080/"
        }
      },
      "outputs": [
        {
          "output_type": "execute_result",
          "data": {
            "text/plain": [
              "0    120.776840\n",
              "1    120.902920\n",
              "2    396.494357\n",
              "3    152.442895\n",
              "4    101.392357\n",
              "dtype: float64"
            ]
          },
          "metadata": {},
          "execution_count": 28
        }
      ],
      "source": [
        "# Here we will perform the projection (to_crs) and the calculation of the length at the same time\n",
        "steets_01= streets.to_crs(epsg=25830)\n",
        "street_length = steets_01.length\n",
        "street_length.head()"
      ]
    },
    {
      "cell_type": "code",
      "execution_count": null,
      "metadata": {
        "id": "1BwESW-87tY3",
        "outputId": "3b6f9098-3632-40da-e975-6f93c30411d5"
      },
      "outputs": [
        {
          "data": {
            "text/plain": [
              "<Projected CRS: EPSG:25830>\n",
              "Name: ETRS89 / UTM zone 30N\n",
              "Axis Info [cartesian]:\n",
              "- E[east]: Easting (metre)\n",
              "- N[north]: Northing (metre)\n",
              "Area of Use:\n",
              "- name: Europe between 6°W and 0°W: Faroe Islands offshore; Ireland - offshore; Jan Mayen - offshore; Norway including Svalbard - offshore; Spain - onshore and offshore.\n",
              "- bounds: (-6.0, 35.26, 0.01, 80.49)\n",
              "Coordinate Operation:\n",
              "- name: UTM zone 30N\n",
              "- method: Transverse Mercator\n",
              "Datum: European Terrestrial Reference System 1989 ensemble\n",
              "- Ellipsoid: GRS 1980\n",
              "- Prime Meridian: Greenwich"
            ]
          },
          "execution_count": 22,
          "metadata": {},
          "output_type": "execute_result"
        }
      ],
      "source": [
        "steets_01.crs"
      ]
    },
    {
      "cell_type": "markdown",
      "metadata": {
        "id": "_LirtgOP7tY3"
      },
      "source": [
        "### Examples on Cetroid and Point in Polygon"
      ]
    },
    {
      "cell_type": "code",
      "execution_count": null,
      "metadata": {
        "id": "5rzd6LT_7tY3",
        "outputId": "ca7b43a9-1a00-4b1e-fa05-9d7137c62f9c"
      },
      "outputs": [
        {
          "data": {
            "text/plain": [
              "0    POINT (386147.759 4204605.994)\n",
              "1    POINT (216296.159 4579397.331)\n",
              "2    POINT (688901.588 4180201.774)\n",
              "3    POINT (518262.028 4069898.674)\n",
              "4    POINT (206940.936 4127361.966)\n",
              "dtype: geometry"
            ]
          },
          "execution_count": 23,
          "metadata": {},
          "output_type": "execute_result"
        }
      ],
      "source": [
        "# Sometimes it is useful to summarize a polygon into a single point and, for that, a good candidate is its centroid\n",
        "cents = cities.centroid\n",
        "cents.head()"
      ]
    },
    {
      "cell_type": "code",
      "execution_count": null,
      "metadata": {
        "id": "TqfhwBcp7tY3",
        "outputId": "2ce6623e-6e7b-4681-9cad-6ebab6d415a7"
      },
      "outputs": [
        {
          "data": {
            "text/plain": [
              "<Axes: >"
            ]
          },
          "execution_count": 24,
          "metadata": {},
          "output_type": "execute_result"
        },
        {
          "data": {
            "image/png": "[encoded data removed]",
            "text/plain": [
              "<Figure size 640x480 with 1 Axes>"
            ]
          },
          "metadata": {},
          "output_type": "display_data"
        }
      ],
      "source": [
        "# Now we plot this\n",
        "cents.plot()"
      ]
    },
    {
      "cell_type": "markdown",
      "metadata": {
        "id": "FVha0OK_7tY3"
      },
      "source": [
        "### Point in polygon (PiP)"
      ]
    },
    {
      "cell_type": "markdown",
      "metadata": {
        "id": "X_kNgzPE7tY4"
      },
      "source": [
        "\n",
        "\n",
        "### Easy to understand, intresting to code:\n",
        "\n",
        "#### Part 1\n",
        "-  We have a GeoDataFrame containing geographic data.\n",
        "-  We accesses data within the GeoDataFrame using .loc, a label-based data selecting method.\n",
        "-  Specifies access to the row labeled 12 and the \"geometry\" column.\n",
        "- Assigned the geometric data from the 13th row (index 12) of the `cities` GeoDataFrame\n",
        "\n",
        "#### Part 2\n",
        "- We retrive the first element of a GeoSeries points representing centroids.\n"
      ]
    },
    {
      "cell_type": "code",
      "execution_count": null,
      "metadata": {
        "id": "H4GgCRtm7tY4"
      },
      "outputs": [],
      "source": [
        "poly = cities.loc[12, \"geometry\"]\n",
        "pt1 = cents[0]\n",
        "pt2 = cents[112]"
      ]
    },
    {
      "cell_type": "code",
      "execution_count": null,
      "metadata": {
        "id": "geoWNtDj7tY4",
        "outputId": "d855f4cc-3798-4ed4-c3a1-0d40398362b1"
      },
      "outputs": [
        {
          "data": {
            "text/plain": [
              "False"
            ]
          },
          "execution_count": 56,
          "metadata": {},
          "output_type": "execute_result"
        }
      ],
      "source": [
        "# does out polygon have point 1?\n",
        "poly.contains(pt1)"
      ]
    },
    {
      "cell_type": "code",
      "execution_count": null,
      "metadata": {
        "id": "ECZI7hbl7tY4",
        "outputId": "ecce6dc0-cc4d-449a-b562-f1fc1a03fb43"
      },
      "outputs": [
        {
          "data": {
            "text/plain": [
              "False"
            ]
          },
          "execution_count": 57,
          "metadata": {},
          "output_type": "execute_result"
        }
      ],
      "source": [
        "# does ou polygon have point 2?\n",
        "poly.contains(pt2)"
      ]
    },
    {
      "cell_type": "code",
      "execution_count": null,
      "metadata": {
        "id": "q_P7S7Fz7tY4",
        "outputId": "e8ead820-efa4-4470-aa6f-acf2eb76ad99"
      },
      "outputs": [
        {
          "data": {
            "text/plain": [
              "<Projected CRS: EPSG:25830>\n",
              "Name: ETRS89 / UTM zone 30N\n",
              "Axis Info [cartesian]:\n",
              "- E[east]: Easting (metre)\n",
              "- N[north]: Northing (metre)\n",
              "Area of Use:\n",
              "- name: Europe between 6°W and 0°W: Faroe Islands offshore; Ireland - offshore; Jan Mayen - offshore; Norway including Svalbard - offshore; Spain - onshore and offshore.\n",
              "- bounds: (-6.0, 35.26, 0.01, 80.49)\n",
              "Coordinate Operation:\n",
              "- name: UTM zone 30N\n",
              "- method: Transverse Mercator\n",
              "Datum: European Terrestrial Reference System 1989 ensemble\n",
              "- Ellipsoid: GRS 1980\n",
              "- Prime Meridian: Greenwich"
            ]
          },
          "execution_count": 62,
          "metadata": {},
          "output_type": "execute_result"
        }
      ],
      "source": [
        "# let's check the crs\n",
        "pois_projected = pois.to_crs(cities.crs)\n",
        "pois_projected.crs"
      ]
    },
    {
      "cell_type": "markdown",
      "metadata": {
        "id": "vl7_WcOl7tY4"
      },
      "source": [
        "#### Buffers"
      ]
    },
    {
      "cell_type": "code",
      "execution_count": null,
      "metadata": {
        "id": "WOAtrxHO7tY5",
        "outputId": "2022e967-b2b5-4025-c836-ee5719f6ae43"
      },
      "outputs": [
        {
          "data": {
            "text/plain": [
              "<Projected CRS: EPSG:25830>\n",
              "Name: ETRS89 / UTM zone 30N\n",
              "Axis Info [cartesian]:\n",
              "- E[east]: Easting (metre)\n",
              "- N[north]: Northing (metre)\n",
              "Area of Use:\n",
              "- name: Europe between 6°W and 0°W: Faroe Islands offshore; Ireland - offshore; Jan Mayen - offshore; Norway including Svalbard - offshore; Spain - onshore and offshore.\n",
              "- bounds: (-6.0, 35.26, 0.01, 80.49)\n",
              "Coordinate Operation:\n",
              "- name: UTM zone 30N\n",
              "- method: Transverse Mercator\n",
              "Datum: European Terrestrial Reference System 1989 ensemble\n",
              "- Ellipsoid: GRS 1980\n",
              "- Prime Meridian: Greenwich"
            ]
          },
          "execution_count": 65,
          "metadata": {},
          "output_type": "execute_result"
        }
      ],
      "source": [
        "# let's check the crs\n",
        "# we will make it the ame crs as cities\n",
        "pois_projected = pois.to_crs(cities.crs)\n",
        "pois_projected.crs"
      ]
    },
    {
      "cell_type": "code",
      "execution_count": null,
      "metadata": {
        "id": "alCclTk87tY5",
        "outputId": "7f5f4f4e-e8e0-4408-88b5-05bdb357ba19"
      },
      "outputs": [
        {
          "data": {
            "text/plain": [
              "0    POLYGON ((440085.759 4475244.528, 440083.352 4...\n",
              "1    POLYGON ((441199.443 4482099.370, 441197.035 4...\n",
              "2    POLYGON ((440012.154 4473848.877, 440009.747 4...\n",
              "3    POLYGON ((441631.862 4473439.094, 441629.454 4...\n",
              "4    POLYGON ((441283.067 4473680.493, 441280.659 4...\n",
              "dtype: geometry"
            ]
          },
          "execution_count": 66,
          "metadata": {},
          "output_type": "execute_result"
        }
      ],
      "source": [
        "# let's buffer by 500 m\n",
        "buf = pois_projected.buffer(500)\n",
        "buf.head()"
      ]
    },
    {
      "cell_type": "code",
      "execution_count": null,
      "metadata": {
        "id": "Gnxkz_g-7tY5",
        "outputId": "2f12f52f-c1e5-4cca-a2bf-08cc74dcae36"
      },
      "outputs": [
        {
          "data": {
            "text/plain": [
              "<matplotlib.axes._subplots.AxesSubplot at 0x1f9d2646130>"
            ]
          },
          "execution_count": 67,
          "metadata": {},
          "output_type": "execute_result"
        },
        {
          "data": {
            "image/png": "[encoded data removed]",
            "text/plain": [
              "<Figure size 640x480 with 1 Axes>"
            ]
          },
          "metadata": {},
          "output_type": "display_data"
        }
      ],
      "source": [
        "# let's plot this\n",
        "\n",
        "f, ax = plt.subplots(1)\n",
        "# Plot buffer\n",
        "buf.plot(ax=ax, linewidth=0)\n",
        "# Plot named places on top for reference\n",
        "# [NOTE how we modify the dot size (`markersize`)\n",
        "# and the color (`color`)]\n",
        "pois_projected.plot(ax=ax, markersize=1, color='yellow')"
      ]
    }
  ],
  "metadata": {
    "application/vnd.databricks.v1+notebook": {
      "dashboards": [],
      "language": "python",
      "notebookMetadata": {
        "pythonIndentUnit": 4
      },
      "notebookName": "pug_tutorial_geopandas",
      "widgets": {}
    },
    "kernel_info": {
      "name": "python3"
    },
    "kernelspec": {
      "display_name": "Python 3 (ipykernel)",
      "language": "python",
      "name": "python3"
    },
    "language_info": {
      "codemirror_mode": {
        "name": "ipython",
        "version": 3
      },
      "file_extension": ".py",
      "mimetype": "text/x-python",
      "name": "python",
      "nbconvert_exporter": "python",
      "pygments_lexer": "ipython3",
      "version": "3.11.5"
    },
    "microsoft": {
      "host": {
        "AzureML": {
          "notebookHasBeenCompleted": true
        }
      },
      "ms_spell_check": {
        "ms_spell_check_language": "en"
      }
    },
    "nteract": {
      "version": "nteract-front-end@1.0.0"
    },
    "colab": {
      "provenance": []
    }
  },
  "nbformat": 4,
  "nbformat_minor": 0
}